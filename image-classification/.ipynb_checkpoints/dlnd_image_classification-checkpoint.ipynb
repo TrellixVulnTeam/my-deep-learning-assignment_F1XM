{
 "cells": [
  {
   "cell_type": "markdown",
   "metadata": {
    "collapsed": true
   },
   "source": [
    "# 图像分类\n",
    "\n",
    "在此项目中，你将对 [CIFAR-10 数据集](https://www.cs.toronto.edu/~kriz/cifar.html) 中的图片进行分类。该数据集包含飞机、猫狗和其他物体。你需要预处理这些图片，然后用所有样本训练一个卷积神经网络。图片需要标准化（normalized），标签需要采用 one-hot 编码。你需要应用所学的知识构建卷积的、最大池化（max pooling）、丢弃（dropout）和完全连接（fully connected）的层。最后，你需要在样本图片上看到神经网络的预测结果。\n",
    "\n",
    "\n",
    "## 获取数据\n",
    "\n",
    "请运行以下单元，以下载 [CIFAR-10 数据集（Python版）](https://www.cs.toronto.edu/~kriz/cifar-10-python.tar.gz)。\n"
   ]
  },
  {
   "cell_type": "code",
   "execution_count": 1,
   "metadata": {},
   "outputs": [
    {
     "name": "stdout",
     "output_type": "stream",
     "text": [
      "All files found!\n"
     ]
    }
   ],
   "source": [
    "\"\"\"\n",
    "DON'T MODIFY ANYTHING IN THIS CELL THAT IS BELOW THIS LINE\n",
    "\"\"\"\n",
    "from urllib.request import urlretrieve\n",
    "from os.path import isfile, isdir\n",
    "from tqdm import tqdm\n",
    "import problem_unittests as tests\n",
    "import tarfile\n",
    "\n",
    "cifar10_dataset_folder_path = 'cifar-10-batches-py'\n",
    "\n",
    "# Use Floyd's cifar-10 dataset if present\n",
    "floyd_cifar10_location = '/input/cifar-10/python.tar.gz'\n",
    "if isfile(floyd_cifar10_location):\n",
    "    tar_gz_path = floyd_cifar10_location\n",
    "else:\n",
    "    tar_gz_path = 'cifar-10-python.tar.gz'\n",
    "\n",
    "class DLProgress(tqdm):\n",
    "    last_block = 0\n",
    "\n",
    "    def hook(self, block_num=1, block_size=1, total_size=None):\n",
    "        self.total = total_size\n",
    "        self.update((block_num - self.last_block) * block_size)\n",
    "        self.last_block = block_num\n",
    "\n",
    "if not isfile(tar_gz_path):\n",
    "    with DLProgress(unit='B', unit_scale=True, miniters=1, desc='CIFAR-10 Dataset') as pbar:\n",
    "        urlretrieve(\n",
    "            'https://www.cs.toronto.edu/~kriz/cifar-10-python.tar.gz',\n",
    "            tar_gz_path,\n",
    "            pbar.hook)\n",
    "\n",
    "if not isdir(cifar10_dataset_folder_path):\n",
    "    with tarfile.open(tar_gz_path) as tar:\n",
    "        tar.extractall()\n",
    "        tar.close()\n",
    "\n",
    "\n",
    "tests.test_folder_path(cifar10_dataset_folder_path)"
   ]
  },
  {
   "cell_type": "markdown",
   "metadata": {},
   "source": [
    "## 探索数据\n",
    "\n",
    "该数据集分成了几部分／批次（batches），以免你的机器在计算时内存不足。CIFAR-10 数据集包含 5 个部分，名称分别为 `data_batch_1`、`data_batch_2`，以此类推。每个部分都包含以下某个类别的标签和图片：\n",
    "\n",
    "* 飞机\n",
    "* 汽车\n",
    "* 鸟类\n",
    "* 猫\n",
    "* 鹿\n",
    "* 狗\n",
    "* 青蛙\n",
    "* 马\n",
    "* 船只\n",
    "* 卡车\n",
    "\n",
    "了解数据集也是对数据进行预测的必经步骤。你可以通过更改 `batch_id` 和 `sample_id` 探索下面的代码单元。`batch_id` 是数据集一个部分的 ID（1 到 5）。`sample_id` 是该部分中图片和标签对（label pair）的 ID。\n",
    "\n",
    "问问你自己：“可能的标签有哪些？”、“图片数据的值范围是多少？”、“标签是按顺序排列，还是随机排列的？”。思考类似的问题，有助于你预处理数据，并使预测结果更准确。\n"
   ]
  },
  {
   "cell_type": "code",
   "execution_count": 2,
   "metadata": {},
   "outputs": [
    {
     "name": "stdout",
     "output_type": "stream",
     "text": [
      "\n",
      "Stats of batch 1:\n",
      "Samples: 10000\n",
      "Label Counts: {0: 1005, 1: 974, 2: 1032, 3: 1016, 4: 999, 5: 937, 6: 1030, 7: 1001, 8: 1025, 9: 981}\n",
      "First 20 Labels: [6, 9, 9, 4, 1, 1, 2, 7, 8, 3, 4, 7, 7, 2, 9, 9, 9, 3, 2, 6]\n",
      "\n",
      "Example of Image 5:\n",
      "Image - Min Value: 0 Max Value: 252\n",
      "Image - Shape: (32, 32, 3)\n",
      "Label - Label Id: 1 Name: automobile\n"
     ]
    },
    {
     "data": {
      "image/png": "[encoded data removed]",
      "text/plain": [
       "<matplotlib.figure.Figure at 0x19c4fac97b8>"
      ]
     },
     "metadata": {
      "image/png": {
       "height": 250,
       "width": 253
      }
     },
     "output_type": "display_data"
    }
   ],
   "source": [
    "%matplotlib inline\n",
    "%config InlineBackend.figure_format = 'retina'\n",
    "\n",
    "import helper\n",
    "import numpy as np\n",
    "\n",
    "# Explore the dataset\n",
    "batch_id = 1\n",
    "sample_id = 5\n",
    "helper.display_stats(cifar10_dataset_folder_path, batch_id, sample_id)"
   ]
  },
  {
   "cell_type": "markdown",
   "metadata": {},
   "source": [
    "## 实现预处理函数\n",
    "\n",
    "### 标准化\n",
    "\n",
    "在下面的单元中，实现 `normalize` 函数，传入图片数据 `x`，并返回标准化 Numpy 数组。值应该在 0 到 1 的范围内（含 0 和 1）。返回对象应该和 `x` 的形状一样。\n"
   ]
  },
  {
   "cell_type": "code",
   "execution_count": 9,
   "metadata": {},
   "outputs": [
    {
     "name": "stdout",
     "output_type": "stream",
     "text": [
      "Tests Passed\n"
     ]
    }
   ],
   "source": [
    "def normalize(x):\n",
    "    \"\"\"\n",
    "    Normalize a list of sample image data in the range of 0 to 1\n",
    "    : x: List of image data.  The image shape is (32, 32, 3)\n",
    "    : return: Numpy array of normalize data\n",
    "    \"\"\"\n",
    "    # TODO: Implement Function\n",
    "    return (x-x.min())/(x.max()-x.min())\n",
    "\n",
    "\n",
    "\"\"\"\n",
    "DON'T MODIFY ANYTHING IN THIS CELL THAT IS BELOW THIS LINE\n",
    "\"\"\"\n",
    "tests.test_normalize(normalize)"
   ]
  },
  {
   "cell_type": "markdown",
   "metadata": {},
   "source": [
    "### One-hot 编码\n",
    "\n",
    "和之前的代码单元一样，你将为预处理实现一个函数。这次，你将实现 `one_hot_encode` 函数。输入，也就是 `x`，是一个标签列表。实现该函数，以返回为 one_hot 编码的 Numpy 数组的标签列表。标签的可能值为 0 到 9。每次调用 `one_hot_encode` 时，对于每个值，one_hot 编码函数应该返回相同的编码。确保将编码映射保存到该函数外面。\n",
    "\n",
    "提示：不要重复发明轮子。\n",
    "目的是去除label数值大小不一样的影响"
   ]
  },
  {
   "cell_type": "code",
   "execution_count": 10,
   "metadata": {},
   "outputs": [
    {
     "name": "stdout",
     "output_type": "stream",
     "text": [
      "Tests Passed\n"
     ]
    }
   ],
   "source": [
    "#from sklearn import preprocessing\n",
    "def one_hot_encode(x):\n",
    "    \"\"\"\n",
    "    One hot encode a list of sample labels. Return a one-hot encoded vector for each label.\n",
    "    : x: List of sample Labels\n",
    "    : return: Numpy array of one-hot encoded labels\n",
    "    \"\"\"\n",
    "    # TODO: Implement Function\n",
    "    #lb = preprocessing.LabelBinarizer()\n",
    "    #lb.fit([0,1,2,3,4,5,6,7,8,9])\n",
    "    #return lb.transform(x)\n",
    "    return np.eye(10)[x]\n",
    "\n",
    "\n",
    "\"\"\"\n",
    "DON'T MODIFY ANYTHING IN THIS CELL THAT IS BELOW THIS LINE\n",
    "\"\"\"\n",
    "tests.test_one_hot_encode(one_hot_encode)"
   ]
  },
  {
   "cell_type": "markdown",
   "metadata": {},
   "source": [
    "### 随机化数据\n",
    "\n",
    "之前探索数据时，你已经了解到，样本的顺序是随机的。再随机化一次也不会有什么关系，但是对于这个数据集没有必要。\n"
   ]
  },
  {
   "cell_type": "markdown",
   "metadata": {},
   "source": [
    "## 预处理所有数据并保存\n",
    "\n",
    "运行下方的代码单元，将预处理所有 CIFAR-10 数据，并保存到文件中。下面的代码还使用了 10% 的训练数据，用来验证。\n"
   ]
  },
  {
   "cell_type": "code",
   "execution_count": 11,
   "metadata": {
    "collapsed": true
   },
   "outputs": [],
   "source": [
    "\"\"\"\n",
    "DON'T MODIFY ANYTHING IN THIS CELL\n",
    "\"\"\"\n",
    "# Preprocess Training, Validation, and Testing Data\n",
    "helper.preprocess_and_save_data(cifar10_dataset_folder_path, normalize, one_hot_encode)"
   ]
  },
  {
   "cell_type": "markdown",
   "metadata": {},
   "source": [
    "# 检查点\n",
    "\n",
    "这是你的第一个检查点。如果你什么时候决定再回到该记事本，或需要重新启动该记事本，你可以从这里开始。预处理的数据已保存到本地。\n"
   ]
  },
  {
   "cell_type": "code",
   "execution_count": 12,
   "metadata": {
    "collapsed": true
   },
   "outputs": [],
   "source": [
    "\"\"\"\n",
    "DON'T MODIFY ANYTHING IN THIS CELL\n",
    "\"\"\"\n",
    "import pickle\n",
    "import problem_unittests as tests\n",
    "import helper\n",
    "\n",
    "# Load the Preprocessed Validation data\n",
    "valid_features, valid_labels = pickle.load(open('preprocess_validation.p', mode='rb'))"
   ]
  },
  {
   "cell_type": "markdown",
   "metadata": {},
   "source": [
    "## 构建网络\n",
    "\n",
    "对于该神经网络，你需要将每层都构建为一个函数。你看到的大部分代码都位于函数外面。要更全面地测试你的代码，我们需要你将每层放入一个函数中。这样使我们能够提供更好的反馈，并使用我们的统一测试检测简单的错误，然后再提交项目。\n",
    "\n",
    ">**注意**：如果你觉得每周很难抽出足够的时间学习这门课程，我们为此项目提供了一个小捷径。对于接下来的几个问题，你可以使用 [TensorFlow Layers](https://www.tensorflow.org/api_docs/python/tf/layers) 或 [TensorFlow Layers (contrib)](https://www.tensorflow.org/api_guides/python/contrib.layers) 程序包中的类来构建每个层级，但是“卷积和最大池化层级”部分的层级除外。TF Layers 和 Keras 及 TFLearn 层级类似，因此很容易学会。\n",
    "\n",
    ">但是，如果你想充分利用这门课程，请尝试自己解决所有问题，不使用 TF Layers 程序包中的任何类。你依然可以使用其他程序包中的类，这些类和你在 TF Layers 中的类名称是一样的！例如，你可以使用 TF Neural Network 版本的 `conv2d` 类 [tf.nn.conv2d](https://www.tensorflow.org/api_docs/python/tf/nn/conv2d)，而不是 TF Layers 版本的 `conv2d` 类 [tf.layers.conv2d](https://www.tensorflow.org/api_docs/python/tf/layers/conv2d)。\n",
    "\n",
    "我们开始吧！\n",
    "\n",
    "\n",
    "### 输入\n",
    "\n",
    "神经网络需要读取图片数据、one-hot 编码标签和丢弃保留概率（dropout keep probability）。请实现以下函数：\n",
    "\n",
    "* 实现 `neural_net_image_input`\n",
    " * 返回 [TF Placeholder](https://www.tensorflow.org/api_docs/python/tf/placeholder)\n",
    " * 使用 `image_shape` 设置形状，部分大小设为 `None`\n",
    " * 使用 [TF Placeholder](https://www.tensorflow.org/api_docs/python/tf/placeholder) 中的 TensorFlow `name` 参数对 TensorFlow 占位符 \"x\" 命名\n",
    "* 实现 `neural_net_label_input`\n",
    " * 返回 [TF Placeholder](https://www.tensorflow.org/api_docs/python/tf/placeholder)\n",
    " * 使用 `n_classes` 设置形状，部分大小设为 `None`\n",
    " * 使用 [TF Placeholder](https://www.tensorflow.org/api_docs/python/tf/placeholder) 中的 TensorFlow `name` 参数对 TensorFlow 占位符 \"y\" 命名\n",
    "* 实现 `neural_net_keep_prob_input`\n",
    " * 返回 [TF Placeholder](https://www.tensorflow.org/api_docs/python/tf/placeholder)，用于丢弃保留概率\n",
    " * 使用 [TF Placeholder](https://www.tensorflow.org/api_docs/python/tf/placeholder) 中的 TensorFlow `name` 参数对 TensorFlow 占位符 \"keep_prob\" 命名\n",
    "\n",
    "这些名称将在项目结束时，用于加载保存的模型。\n",
    "\n",
    "注意：TensorFlow 中的 `None` 表示形状可以是动态大小。"
   ]
  },
  {
   "cell_type": "code",
   "execution_count": 13,
   "metadata": {},
   "outputs": [
    {
     "name": "stdout",
     "output_type": "stream",
     "text": [
      "Image Input Tests Passed.\n",
      "Label Input Tests Passed.\n",
      "Keep Prob Tests Passed.\n"
     ]
    }
   ],
   "source": [
    "import tensorflow as tf\n",
    "\n",
    "def neural_net_image_input(image_shape):\n",
    "    \"\"\"\n",
    "    Return a Tensor for a batch of image input\n",
    "    : image_shape: Shape of the images\n",
    "    : return: Tensor for image input.\n",
    "    \"\"\"\n",
    "    # TODO: Implement Function\n",
    "    #return tf.placeholder(tf.float32, shape=(None,image_shape[0],image_shape[1],image_shape[2]), name='x')\n",
    "    #print(image_shape)\n",
    "    return tf.placeholder(tf.float32, [None, *image_shape], name='x')#是因为image_shape是(32, 32, 3)\n",
    "\n",
    "\n",
    "\n",
    "def neural_net_label_input(n_classes):\n",
    "    \"\"\"\n",
    "    Return a Tensor for a batch of label input\n",
    "    : n_classes: Number of classes\n",
    "    : return: Tensor for label input.\n",
    "    \"\"\"\n",
    "    # TODO: Implement Function\n",
    "    #print(n_classes)\n",
    "    return tf.placeholder(tf.float32, [None,n_classes], name='y')#无*\n",
    "    #return tf.placeholder(tf.float32, shape=(None,n_classes),name='y')\n",
    "\n",
    "\n",
    "\n",
    "def neural_net_keep_prob_input():\n",
    "    \"\"\"\n",
    "    Return a Tensor for keep probability\n",
    "    : return: Tensor for keep probability.\n",
    "    \"\"\"\n",
    "    # TODO: Implement Function\n",
    "    return tf.placeholder(tf.float32, name='keep_prob')\n",
    "\n",
    "\n",
    "\"\"\"\n",
    "DON'T MODIFY ANYTHING IN THIS CELL THAT IS BELOW THIS LINE\n",
    "\"\"\"\n",
    "tf.reset_default_graph()\n",
    "tests.test_nn_image_inputs(neural_net_image_input)\n",
    "tests.test_nn_label_inputs(neural_net_label_input)\n",
    "tests.test_nn_keep_prob_inputs(neural_net_keep_prob_input)"
   ]
  },
  {
   "cell_type": "markdown",
   "metadata": {},
   "source": [
    "### 卷积和最大池化层\n",
    "\n",
    "卷积层级适合处理图片。对于此代码单元，你应该实现函数 `conv2d_maxpool` 以便应用卷积然后进行最大池化：\n",
    "\n",
    "* 使用 `conv_ksize`、`conv_num_outputs` 和 `x_tensor` 的形状创建权重（weight）和偏置（bias）。\n",
    "* 使用权重和 `conv_strides` 对 `x_tensor` 应用卷积。\n",
    "* 建议使用我们建议的间距（padding），当然也可以使用任何其他间距。\n",
    "* 添加偏置\n",
    "* 向卷积中添加非线性激活（nonlinear activation）\n",
    "* 使用 `pool_ksize` 和 `pool_strides` 应用最大池化\n",
    "\n",
    "**注意**：对于**此层**，**请勿使用** [TensorFlow Layers](https://www.tensorflow.org/api_docs/python/tf/layers) 或 [TensorFlow Layers (contrib)](https://www.tensorflow.org/api_guides/python/contrib.layers)，但是仍然可以使用 TensorFlow 的 [Neural Network](https://www.tensorflow.org/api_docs/python/tf/nn) 包。对于所有**其他层**，你依然可以使用快捷方法。\n"
   ]
  },
  {
   "cell_type": "code",
   "execution_count": 14,
   "metadata": {},
   "outputs": [
    {
     "name": "stdout",
     "output_type": "stream",
     "text": [
      "Tests Passed\n"
     ]
    }
   ],
   "source": [
    "def conv2d_maxpool(x_tensor, conv_num_outputs, conv_ksize, conv_strides, pool_ksize, pool_strides):\n",
    "    \"\"\"\n",
    "    Apply convolution then max pooling to x_tensor\n",
    "    :param x_tensor: TensorFlow Tensor\n",
    "    :param conv_num_outputs: Number of outputs for the convolutional layer\n",
    "    :param conv_ksize: kernal size 2-D Tuple for the convolutional layer\n",
    "    :param conv_strides: Stride 2-D Tuple for convolution\n",
    "    :param pool_ksize: kernal size 2-D Tuple for pool\n",
    "    :param pool_strides: Stride 2-D Tuple for pool\n",
    "    : return: A tensor that represents convolution and max pooling of x_tensor\n",
    "    \"\"\"\n",
    "    # TODO: Implement Function\n",
    "    #print('x_tensor=',x_tensor,'conv_num_outputs=', conv_num_outputs,'conv_ksize=', conv_ksize, \\\n",
    "          #'conv_strides=',conv_strides, 'pool_ksize=',pool_ksize, 'pool_strides=',pool_strides)\n",
    "    #print(x_tensor[3])#!!!!必须转换为int数据形式\n",
    "    #print(x_tensor.get_shape().as_list()[3])\n",
    "    #print(conv_ksize[0])\n",
    "    #F_W = tf.Variable(tf.truncated_normal((conv_ksize[0],conv_ksize[1],x_tensor.get_shape().as_list()[3], conv_num_outputs), stddev = 0.1))\n",
    "    F_W = tf.Variable(tf.truncated_normal((conv_ksize[0],conv_ksize[1],int(x_tensor.shape[3]),conv_num_outputs), stddev=0.05)) #(height, width, input_depth, output_depth)stddev是标准差\n",
    "    #print(1)\n",
    "    F_b = tf.Variable(tf.zeros(conv_num_outputs))#(output_depth,)\n",
    "    #print(1)\n",
    "    strides=[1, conv_strides[0],conv_strides[1], 1]#(batch_size, height, width, depth/input_channels)\n",
    "    x_tensor = tf.nn.conv2d(x_tensor, F_W, strides, padding='SAME')\n",
    "    x_tensor = x_tensor+ F_b\n",
    "    x_tensor = tf.nn.relu(x_tensor)\n",
    "    #print('x_ten=',x_tensor)\n",
    "    pool_ksize = [1,pool_ksize[0],pool_ksize[1],1] #(batch_size, height, width, depth)\n",
    "    pool_strides = [1,pool_strides[0],pool_strides[1],1] #(batch_size, height, width, depth)\n",
    "    return tf.nn.max_pool(x_tensor, pool_ksize, pool_strides, padding='SAME')\n",
    "    #return None \n",
    "\n",
    "\n",
    "\"\"\"\n",
    "DON'T MODIFY ANYTHING IN THIS CELL THAT IS BELOW THIS LINE\n",
    "\"\"\"\n",
    "tests.test_con_pool(conv2d_maxpool)"
   ]
  },
  {
   "cell_type": "markdown",
   "metadata": {},
   "source": [
    "### 扁平化层\n",
    "\n",
    "实现 `flatten` 函数，将 `x_tensor` 的维度从四维张量（4-D tensor）变成二维张量。输出应该是形状（*部分大小（Batch Size）*，*扁平化图片大小（Flattened Image Size）*）。快捷方法：对于此层，你可以使用 [TensorFlow Layers](https://www.tensorflow.org/api_docs/python/tf/layers) 或 [TensorFlow Layers (contrib)](https://www.tensorflow.org/api_guides/python/contrib.layers) 包中的类。如果你想要更大挑战，可以仅使用其他 TensorFlow 程序包。\n",
    "扁平化的原因是全连接层只能接收向量。所以要把四维变成二维的"
   ]
  },
  {
   "cell_type": "code",
   "execution_count": 15,
   "metadata": {},
   "outputs": [
    {
     "name": "stdout",
     "output_type": "stream",
     "text": [
      "Tests Passed\n"
     ]
    }
   ],
   "source": [
    "def flatten(x_tensor):\n",
    "    \"\"\"\n",
    "    Flatten x_tensor to (Batch Size, Flattened Image Size)\n",
    "    : x_tensor: A tensor of size (Batch Size, ...), where ... are the image dimensions.\n",
    "    : return: A tensor of size (Batch Size, Flattened Image Size).\n",
    "    \"\"\"\n",
    "    # TODO: Implement Function\n",
    "    #return tf.contrib.layers.flatten(x_tensor)\n",
    "    shape = x_tensor.get_shape().as_list() \n",
    "    #print(shape) #[None, 10, 30, 6]\n",
    "    #print(shape[1:])#[10, 30, 6]\n",
    "    dim = np.prod(shape[1:])\n",
    "    #print(dim)#1800\n",
    "    #print(tf.reshape(x_tensor,[-1,dim]).shape)#(?, 1800)\n",
    "    return tf.reshape(x_tensor,[-1,dim]) #-1代表任意大小的维度\n",
    "    \n",
    "\n",
    "\n",
    "\"\"\"\n",
    "DON'T MODIFY ANYTHING IN THIS CELL THAT IS BELOW THIS LINE\n",
    "\"\"\"\n",
    "tests.test_flatten(flatten)"
   ]
  },
  {
   "cell_type": "markdown",
   "metadata": {},
   "source": [
    "### 全连接层\n",
    "\n",
    "实现 `fully_conn` 函数，以向 `x_tensor` 应用完全连接的层级，形状为（*部分大小（Batch Size）*，*num_outputs*）。快捷方法：对于此层，你可以使用 [TensorFlow Layers](https://www.tensorflow.org/api_docs/python/tf/layers) 或 [TensorFlow Layers (contrib)](https://www.tensorflow.org/api_guides/python/contrib.layers) 包中的类。如果你想要更大挑战，可以仅使用其他 TensorFlow 程序包。"
   ]
  },
  {
   "cell_type": "code",
   "execution_count": 16,
   "metadata": {},
   "outputs": [
    {
     "name": "stdout",
     "output_type": "stream",
     "text": [
      "Tests Passed\n"
     ]
    }
   ],
   "source": [
    "def fully_conn(x_tensor, num_outputs):\n",
    "    \"\"\"\n",
    "    Apply a fully connected layer to x_tensor using weight and bias\n",
    "    : x_tensor: A 2-D tensor where the first dimension is batch size.\n",
    "    : num_outputs: The number of output that the new tensor should be.\n",
    "    : return: A 2-D tensor where the second dimension is num_outputs.\n",
    "    \"\"\"\n",
    "    # TODO: Implement Function\n",
    "    shape = x_tensor.get_shape().as_list()\n",
    "    #print(shape)\n",
    "    weight = tf.Variable(tf.truncated_normal((shape[1],num_outputs),stddev=0.05))#是shape[1]不是shape\n",
    "    biase = tf.Variable(tf.zeros(num_outputs))\n",
    "    x_tensor = tf.add(tf.matmul(x_tensor,weight),biase)\n",
    "    return tf.nn.relu(x_tensor)\n",
    "\n",
    "\"\"\"\n",
    "DON'T MODIFY ANYTHING IN THIS CELL THAT IS BELOW THIS LINE\n",
    "\"\"\"\n",
    "tests.test_fully_conn(fully_conn)"
   ]
  },
  {
   "cell_type": "markdown",
   "metadata": {},
   "source": [
    "### 输出层\n",
    "\n",
    "实现 `output` 函数，向 x_tensor 应用完全连接的层级，形状为（*部分大小（Batch Size）*，*num_outputs*）。快捷方法：对于此层，你可以使用 [TensorFlow Layers](https://www.tensorflow.org/api_docs/python/tf/layers) 或 [TensorFlow Layers (contrib)](https://www.tensorflow.org/api_guides/python/contrib.layers) 包中的类。如果你想要更大挑战，可以仅使用其他 TensorFlow 程序包。\n",
    "\n",
    "**注意**：该层级不应应用 Activation、softmax 或交叉熵（cross entropy）。"
   ]
  },
  {
   "cell_type": "code",
   "execution_count": 17,
   "metadata": {},
   "outputs": [
    {
     "name": "stdout",
     "output_type": "stream",
     "text": [
      "Tests Passed\n"
     ]
    }
   ],
   "source": [
    "def output(x_tensor, num_outputs):\n",
    "    \"\"\"\n",
    "    Apply a output layer to x_tensor using weight and bias\n",
    "    : x_tensor: A 2-D tensor where the first dimension is batch size.\n",
    "    : num_outputs: The number of output that the new tensor should be.\n",
    "    : return: A 2-D tensor where the second dimension is num_outputs.\n",
    "    \"\"\"\n",
    "    # TODO: Implement Function\n",
    "    shape = x_tensor.get_shape().as_list()\n",
    "    weight = tf.Variable(tf.truncated_normal((shape[1],num_outputs),stddev=0.05))\n",
    "    biase = tf.Variable(tf.zeros(num_outputs))\n",
    "    return tf.add(tf.matmul(x_tensor,weight),biase)\n",
    "\n",
    "\n",
    "\"\"\"\n",
    "DON'T MODIFY ANYTHING IN THIS CELL THAT IS BELOW THIS LINE\n",
    "\"\"\"\n",
    "tests.test_output(output)"
   ]
  },
  {
   "cell_type": "markdown",
   "metadata": {},
   "source": [
    "### 创建卷积模型\n",
    "\n",
    "实现函数 `conv_net`， 创建卷积神经网络模型。该函数传入一批图片 `x`，并输出对数（logits）。使用你在上方创建的层创建此模型：\n",
    "\n",
    "* 应用 1、2 或 3 个卷积和最大池化层（Convolution and Max Pool layers）\n",
    "* 应用一个扁平层（Flatten Layer）\n",
    "* 应用 1、2 或 3 个完全连接层（Fully Connected Layers）\n",
    "* 应用一个输出层（Output Layer）\n",
    "* 返回输出\n",
    "* 使用 `keep_prob` 向模型中的一个或多个层应用 [TensorFlow 的 Dropout](https://www.tensorflow.org/api_docs/python/tf/nn/dropout)"
   ]
  },
  {
   "cell_type": "code",
   "execution_count": 18,
   "metadata": {},
   "outputs": [
    {
     "name": "stdout",
     "output_type": "stream",
     "text": [
      "Neural Network Built!\n"
     ]
    }
   ],
   "source": [
    "def conv_net(x, keep_prob):\n",
    "    \"\"\"\n",
    "    Create a convolutional neural network model\n",
    "    : x: Placeholder tensor that holds image data.\n",
    "    : keep_prob: Placeholder tensor that hold dropout keep probability.\n",
    "    : return: Tensor that represents logits\n",
    "    \"\"\"\n",
    "    # TODO: Apply 1, 2, or 3 Convolution and Max Pool layers\n",
    "    #    Play around with different number of outputs, kernel size and stride\n",
    "    # Function Definition from Above:\n",
    "    #    conv2d_maxpool(x_tensor, conv_num_outputs, conv_ksize, conv_strides, pool_ksize, pool_strides)\n",
    "    #print(x)\n",
    "    x = conv2d_maxpool(x, 16, (2,2), (1,1), (2,2), (2,2))#16 is filter number filter size=2*2*3  32*32*3---32*32*16--16*16*16\n",
    "    x = conv2d_maxpool(x, 32, (2,2), (1,1), (2,2), (2,2))#16*16*32--8*8*32\n",
    "    x = conv2d_maxpool(x, 64, (2,2), (1,1), (2,2), (2,2))#8*8*64--4*4*64\n",
    "\n",
    "    # TODO: Apply a Flatten Layer\n",
    "    # Function Definition from Above:\n",
    "    #   flatten(x_tensor)\n",
    "    x = flatten(x)#(?,1024)\n",
    "\n",
    "    # TODO: Apply 1, 2, or 3 Fully Connected Layers\n",
    "    #    Play around with different number of outputs\n",
    "    # Function Definition from Above:\n",
    "    #   fully_conn(x_tensor, num_outputs)\n",
    "    x = fully_conn(x,512)   #1024/2\n",
    "    x = tf.nn.dropout(x, keep_prob)\n",
    "    x = fully_conn(x,256)   #1024/4\n",
    "    x = tf.nn.dropout(x, keep_prob)\n",
    "    x = fully_conn(x,128)   #1024/8\n",
    "    x = tf.nn.dropout(x, keep_prob)\n",
    "    # TODO: Apply an Output Layer\n",
    "    #    Set this to the number of classes\n",
    "    # Function Definition from Above:\n",
    "    #   output(x_tensor, num_outputs)\n",
    "    x = output(x, 10)\n",
    "    \n",
    "    # TODO: return output\n",
    "    return x\n",
    "\n",
    "\n",
    "\"\"\"\n",
    "DON'T MODIFY ANYTHING IN THIS CELL THAT IS BELOW THIS LINE\n",
    "\"\"\"\n",
    "\n",
    "##############################\n",
    "## Build the Neural Network ##\n",
    "##############################\n",
    "\n",
    "# Remove previous weights, bias, inputs, etc..\n",
    "tf.reset_default_graph()\n",
    "\n",
    "# Inputs\n",
    "x = neural_net_image_input((32, 32, 3))\n",
    "y = neural_net_label_input(10)\n",
    "keep_prob = neural_net_keep_prob_input()\n",
    "\n",
    "# Model\n",
    "logits = conv_net(x, keep_prob)\n",
    "\n",
    "# Name logits Tensor, so that is can be loaded from disk after training\n",
    "logits = tf.identity(logits, name='logits')\n",
    "\n",
    "# Loss and Optimizer\n",
    "cost = tf.reduce_mean(tf.nn.softmax_cross_entropy_with_logits(logits=logits, labels=y))\n",
    "optimizer = tf.train.AdamOptimizer().minimize(cost)\n",
    "\n",
    "# Accuracy\n",
    "correct_pred = tf.equal(tf.argmax(logits, 1), tf.argmax(y, 1))\n",
    "accuracy = tf.reduce_mean(tf.cast(correct_pred, tf.float32), name='accuracy')\n",
    "\n",
    "tests.test_conv_net(conv_net)"
   ]
  },
  {
   "cell_type": "markdown",
   "metadata": {},
   "source": [
    "## 训练神经网络\n",
    "\n",
    "### 单次优化\n",
    "\n",
    "实现函数 `train_neural_network` 以进行单次优化（single optimization）。该优化应该使用 `optimizer` 优化 `session`，其中 `feed_dict` 具有以下参数：\n",
    "\n",
    "* `x` 表示图片输入\n",
    "* `y` 表示标签\n",
    "* `keep_prob` 表示丢弃的保留率\n",
    "\n",
    "每个部分都会调用该函数，所以 `tf.global_variables_initializer()` 已经被调用。\n",
    "\n",
    "注意：不需要返回任何内容。该函数只是用来优化神经网络。\n"
   ]
  },
  {
   "cell_type": "code",
   "execution_count": 19,
   "metadata": {},
   "outputs": [
    {
     "name": "stdout",
     "output_type": "stream",
     "text": [
      "Tests Passed\n"
     ]
    }
   ],
   "source": [
    "def train_neural_network(session, optimizer, keep_probability, feature_batch, label_batch):\n",
    "    \"\"\"\n",
    "    Optimize the session on a batch of images and labels\n",
    "    : session: Current TensorFlow session\n",
    "    : optimizer: TensorFlow optimizer function\n",
    "    : keep_probability: keep probability\n",
    "    : feature_batch: Batch of Numpy image data\n",
    "    : label_batch: Batch of Numpy label data\n",
    "    \"\"\"\n",
    "    # TODO: Implement Function\n",
    "    session.run(optimizer, feed_dict={x:feature_batch,y:label_batch,keep_prob:keep_probability})\n",
    "\n",
    "\n",
    "\"\"\"\n",
    "DON'T MODIFY ANYTHING IN THIS CELL THAT IS BELOW THIS LINE\n",
    "\"\"\"\n",
    "tests.test_train_nn(train_neural_network)"
   ]
  },
  {
   "cell_type": "markdown",
   "metadata": {},
   "source": [
    "### 显示数据\n",
    "\n",
    "实现函数 `print_stats` 以输出损失和验证准确率。使用全局变量 `valid_features` 和 `valid_labels` 计算验证准确率。使用保留率 `1.0` 计算损失和验证准确率（loss and validation accuracy）。\n"
   ]
  },
  {
   "cell_type": "code",
   "execution_count": 20,
   "metadata": {
    "collapsed": true
   },
   "outputs": [],
   "source": [
    "def print_stats(session, feature_batch, label_batch, cost, accuracy):\n",
    "    \"\"\"\n",
    "    Print information about loss and validation accuracy\n",
    "    : session: Current TensorFlow session\n",
    "    : feature_batch: Batch of Numpy image data\n",
    "    : label_batch: Batch of Numpy label data\n",
    "    : cost: TensorFlow cost function\n",
    "    : accuracy: TensorFlow accuracy function\n",
    "    \"\"\"\n",
    "    # TODO: Implement Function\n",
    "    #print('Loss: {:>10.4f} Validation Accuracy: {:.6f}'.format(loss, valid_acc))\n",
    "    loss_accuracy = session.run(cost, feed_dict = {x:feature_batch,y:label_batch, keep_prob:1})\n",
    "    valid_accuracy = session.run(accuracy, feed_dict={x:valid_features, y:valid_labels, keep_prob:1})\n",
    "    print(\"cost = {}, accuracy = {}\".format(loss_accuracy, valid_accuracy))"
   ]
  },
  {
   "cell_type": "markdown",
   "metadata": {},
   "source": [
    "### 超参数\n",
    "\n",
    "调试以下超参数：\n",
    "* 设置 `epochs` 表示神经网络停止学习或开始过拟合的迭代次数\n",
    "* 设置 `batch_size`，表示机器内存允许的部分最大体积。大部分人设为以下常见内存大小：\n",
    "\n",
    " * 64\n",
    " * 128\n",
    " * 256\n",
    " * ...\n",
    "* 设置 `keep_probability` 表示使用丢弃时保留节点的概率"
   ]
  },
  {
   "cell_type": "code",
   "execution_count": 21,
   "metadata": {
    "collapsed": true
   },
   "outputs": [],
   "source": [
    "# TODO: Tune Parameters\n",
    "epochs = 50\n",
    "batch_size = 256\n",
    "keep_probability = 0.8"
   ]
  },
  {
   "cell_type": "markdown",
   "metadata": {},
   "source": [
    "### 在单个 CIFAR-10 部分上训练\n",
    "\n",
    "我们先用单个部分，而不是用所有的 CIFAR-10 批次训练神经网络。这样可以节省时间，并对模型进行迭代，以提高准确率。最终验证准确率达到 50% 或以上之后，在下一部分对所有数据运行模型。\n"
   ]
  },
  {
   "cell_type": "code",
   "execution_count": 22,
   "metadata": {},
   "outputs": [
    {
     "name": "stdout",
     "output_type": "stream",
     "text": [
      "Checking the Training on a Single Batch...\n",
      "Epoch  1, CIFAR-10 Batch 1:  cost = 2.2105917930603027, accuracy = 0.22599999606609344\n",
      "Epoch  2, CIFAR-10 Batch 1:  cost = 2.176459550857544, accuracy = 0.2502000033855438\n",
      "Epoch  3, CIFAR-10 Batch 1:  cost = 2.1396079063415527, accuracy = 0.28619998693466187\n",
      "Epoch  4, CIFAR-10 Batch 1:  cost = 1.952357530593872, accuracy = 0.34040001034736633\n",
      "Epoch  5, CIFAR-10 Batch 1:  cost = 1.9154132604599, accuracy = 0.3578000068664551\n",
      "Epoch  6, CIFAR-10 Batch 1:  cost = 1.7611401081085205, accuracy = 0.38339999318122864\n",
      "Epoch  7, CIFAR-10 Batch 1:  cost = 1.6749944686889648, accuracy = 0.39879998564720154\n",
      "Epoch  8, CIFAR-10 Batch 1:  cost = 1.5686603784561157, accuracy = 0.42500001192092896\n",
      "Epoch  9, CIFAR-10 Batch 1:  cost = 1.484720230102539, accuracy = 0.43479999899864197\n",
      "Epoch 10, CIFAR-10 Batch 1:  cost = 1.3807804584503174, accuracy = 0.4503999948501587\n",
      "Epoch 11, CIFAR-10 Batch 1:  cost = 1.3489235639572144, accuracy = 0.45840001106262207\n",
      "Epoch 12, CIFAR-10 Batch 1:  cost = 1.2760422229766846, accuracy = 0.47760000824928284\n",
      "Epoch 13, CIFAR-10 Batch 1:  cost = 1.2096490859985352, accuracy = 0.4819999933242798\n",
      "Epoch 14, CIFAR-10 Batch 1:  cost = 1.1453793048858643, accuracy = 0.4814000129699707\n",
      "Epoch 15, CIFAR-10 Batch 1:  cost = 1.1013624668121338, accuracy = 0.48820000886917114\n",
      "Epoch 16, CIFAR-10 Batch 1:  cost = 0.999363124370575, accuracy = 0.5063999891281128\n",
      "Epoch 17, CIFAR-10 Batch 1:  cost = 0.9200190305709839, accuracy = 0.5145999789237976\n",
      "Epoch 18, CIFAR-10 Batch 1:  cost = 0.8782330751419067, accuracy = 0.5216000080108643\n",
      "Epoch 19, CIFAR-10 Batch 1:  cost = 0.8178730010986328, accuracy = 0.5117999911308289\n",
      "Epoch 20, CIFAR-10 Batch 1:  cost = 0.770455002784729, accuracy = 0.5333999991416931\n",
      "Epoch 21, CIFAR-10 Batch 1:  cost = 0.7254070043563843, accuracy = 0.5393999814987183\n",
      "Epoch 22, CIFAR-10 Batch 1:  cost = 0.7016205191612244, accuracy = 0.5342000126838684\n",
      "Epoch 23, CIFAR-10 Batch 1:  cost = 0.6427819728851318, accuracy = 0.5303999781608582\n",
      "Epoch 24, CIFAR-10 Batch 1:  cost = 0.6075255870819092, accuracy = 0.5253999829292297\n",
      "Epoch 25, CIFAR-10 Batch 1:  cost = 0.5529391765594482, accuracy = 0.522599995136261\n",
      "Epoch 26, CIFAR-10 Batch 1:  cost = 0.4956197142601013, accuracy = 0.553600013256073\n",
      "Epoch 27, CIFAR-10 Batch 1:  cost = 0.45226144790649414, accuracy = 0.5497999787330627\n",
      "Epoch 28, CIFAR-10 Batch 1:  cost = 0.40799084305763245, accuracy = 0.5529999732971191\n",
      "Epoch 29, CIFAR-10 Batch 1:  cost = 0.3759787678718567, accuracy = 0.5583999752998352\n",
      "Epoch 30, CIFAR-10 Batch 1:  cost = 0.34435755014419556, accuracy = 0.5577999949455261\n",
      "Epoch 31, CIFAR-10 Batch 1:  cost = 0.3415454030036926, accuracy = 0.5490000247955322\n",
      "Epoch 32, CIFAR-10 Batch 1:  cost = 0.2986070215702057, accuracy = 0.5587999820709229\n",
      "Epoch 33, CIFAR-10 Batch 1:  cost = 0.29087334871292114, accuracy = 0.5559999942779541\n",
      "Epoch 34, CIFAR-10 Batch 1:  cost = 0.2926429808139801, accuracy = 0.5558000206947327\n",
      "Epoch 35, CIFAR-10 Batch 1:  cost = 0.284604549407959, accuracy = 0.5595999956130981\n",
      "Epoch 36, CIFAR-10 Batch 1:  cost = 0.25120049715042114, accuracy = 0.5644000172615051\n",
      "Epoch 37, CIFAR-10 Batch 1:  cost = 0.22428330779075623, accuracy = 0.5645999908447266\n",
      "Epoch 38, CIFAR-10 Batch 1:  cost = 0.1872788667678833, accuracy = 0.5662000179290771\n",
      "Epoch 39, CIFAR-10 Batch 1:  cost = 0.13805779814720154, accuracy = 0.5866000056266785\n",
      "Epoch 40, CIFAR-10 Batch 1:  cost = 0.13399291038513184, accuracy = 0.5774000287055969\n",
      "Epoch 41, CIFAR-10 Batch 1:  cost = 0.1334940493106842, accuracy = 0.5735999941825867\n",
      "Epoch 42, CIFAR-10 Batch 1:  cost = 0.097571462392807, accuracy = 0.5767999887466431\n",
      "Epoch 43, CIFAR-10 Batch 1:  cost = 0.10845694690942764, accuracy = 0.579200029373169\n",
      "Epoch 44, CIFAR-10 Batch 1:  cost = 0.08822314441204071, accuracy = 0.5753999948501587\n",
      "Epoch 45, CIFAR-10 Batch 1:  cost = 0.07259763032197952, accuracy = 0.5889999866485596\n",
      "Epoch 46, CIFAR-10 Batch 1:  cost = 0.07006479799747467, accuracy = 0.5849999785423279\n",
      "Epoch 47, CIFAR-10 Batch 1:  cost = 0.10009243339300156, accuracy = 0.5551999807357788\n",
      "Epoch 48, CIFAR-10 Batch 1:  cost = 0.06078656390309334, accuracy = 0.5659999847412109\n",
      "Epoch 49, CIFAR-10 Batch 1:  cost = 0.07427439838647842, accuracy = 0.5446000099182129\n",
      "Epoch 50, CIFAR-10 Batch 1:  cost = 0.09020817279815674, accuracy = 0.5702000260353088\n"
     ]
    }
   ],
   "source": [
    "\"\"\"\n",
    "DON'T MODIFY ANYTHING IN THIS CELL\n",
    "\"\"\"\n",
    "print('Checking the Training on a Single Batch...')\n",
    "with tf.Session() as sess:\n",
    "    # Initializing the variables\n",
    "    sess.run(tf.global_variables_initializer())\n",
    "    \n",
    "    # Training cycle\n",
    "    for epoch in range(epochs):\n",
    "        batch_i = 1\n",
    "        for batch_features, batch_labels in helper.load_preprocess_training_batch(batch_i, batch_size):\n",
    "            train_neural_network(sess, optimizer, keep_probability, batch_features, batch_labels)\n",
    "        print('Epoch {:>2}, CIFAR-10 Batch {}:  '.format(epoch + 1, batch_i), end='')\n",
    "        print_stats(sess, batch_features, batch_labels, cost, accuracy)"
   ]
  },
  {
   "cell_type": "markdown",
   "metadata": {},
   "source": [
    "### 完全训练模型\n",
    "\n",
    "现在，单个 CIFAR-10 部分的准确率已经不错了，试试所有五个部分吧。"
   ]
  },
  {
   "cell_type": "code",
   "execution_count": 23,
   "metadata": {},
   "outputs": [
    {
     "name": "stdout",
     "output_type": "stream",
     "text": [
      "Training...\n",
      "Epoch  1, CIFAR-10 Batch 1:  cost = 2.1631686687469482, accuracy = 0.17640000581741333\n",
      "Epoch  1, CIFAR-10 Batch 2:  cost = 2.093243360519409, accuracy = 0.20900000631809235\n",
      "Epoch  1, CIFAR-10 Batch 3:  cost = 1.7874324321746826, accuracy = 0.2313999980688095\n",
      "Epoch  1, CIFAR-10 Batch 4:  cost = 1.8332464694976807, accuracy = 0.27900001406669617\n",
      "Epoch  1, CIFAR-10 Batch 5:  cost = 1.8175777196884155, accuracy = 0.2913999855518341\n",
      "Epoch  2, CIFAR-10 Batch 1:  cost = 2.024519443511963, accuracy = 0.3271999955177307\n",
      "Epoch  2, CIFAR-10 Batch 2:  cost = 1.8225862979888916, accuracy = 0.375\n",
      "Epoch  2, CIFAR-10 Batch 3:  cost = 1.4662069082260132, accuracy = 0.3352000117301941\n",
      "Epoch  2, CIFAR-10 Batch 4:  cost = 1.6485259532928467, accuracy = 0.39340001344680786\n",
      "Epoch  2, CIFAR-10 Batch 5:  cost = 1.6034908294677734, accuracy = 0.39500001072883606\n",
      "Epoch  3, CIFAR-10 Batch 1:  cost = 1.7907249927520752, accuracy = 0.41940000653266907\n",
      "Epoch  3, CIFAR-10 Batch 2:  cost = 1.5760161876678467, accuracy = 0.40880000591278076\n",
      "Epoch  3, CIFAR-10 Batch 3:  cost = 1.198805809020996, accuracy = 0.44119998812675476\n",
      "Epoch  3, CIFAR-10 Batch 4:  cost = 1.431434154510498, accuracy = 0.428600013256073\n",
      "Epoch  3, CIFAR-10 Batch 5:  cost = 1.44704270362854, accuracy = 0.4569999873638153\n",
      "Epoch  4, CIFAR-10 Batch 1:  cost = 1.530695915222168, accuracy = 0.46239998936653137\n",
      "Epoch  4, CIFAR-10 Batch 2:  cost = 1.4251983165740967, accuracy = 0.4636000096797943\n",
      "Epoch  4, CIFAR-10 Batch 3:  cost = 1.0925307273864746, accuracy = 0.48539999127388\n",
      "Epoch  4, CIFAR-10 Batch 4:  cost = 1.2844158411026, accuracy = 0.4796000123023987\n",
      "Epoch  4, CIFAR-10 Batch 5:  cost = 1.309650182723999, accuracy = 0.5167999863624573\n",
      "Epoch  5, CIFAR-10 Batch 1:  cost = 1.3517634868621826, accuracy = 0.5239999890327454\n",
      "Epoch  5, CIFAR-10 Batch 2:  cost = 1.2051942348480225, accuracy = 0.5185999870300293\n",
      "Epoch  5, CIFAR-10 Batch 3:  cost = 1.017793893814087, accuracy = 0.49900001287460327\n",
      "Epoch  5, CIFAR-10 Batch 4:  cost = 1.1013928651809692, accuracy = 0.5401999950408936\n",
      "Epoch  5, CIFAR-10 Batch 5:  cost = 1.1573455333709717, accuracy = 0.5315999984741211\n",
      "Epoch  6, CIFAR-10 Batch 1:  cost = 1.2323219776153564, accuracy = 0.5514000058174133\n",
      "Epoch  6, CIFAR-10 Batch 2:  cost = 1.1070984601974487, accuracy = 0.5284000039100647\n",
      "Epoch  6, CIFAR-10 Batch 3:  cost = 0.9299134016036987, accuracy = 0.5228000283241272\n",
      "Epoch  6, CIFAR-10 Batch 4:  cost = 0.9988530874252319, accuracy = 0.5605999827384949\n",
      "Epoch  6, CIFAR-10 Batch 5:  cost = 1.0889238119125366, accuracy = 0.5388000011444092\n",
      "Epoch  7, CIFAR-10 Batch 1:  cost = 1.0961532592773438, accuracy = 0.5590000152587891\n",
      "Epoch  7, CIFAR-10 Batch 2:  cost = 1.0006868839263916, accuracy = 0.5491999983787537\n",
      "Epoch  7, CIFAR-10 Batch 3:  cost = 0.825768768787384, accuracy = 0.5564000010490417\n",
      "Epoch  7, CIFAR-10 Batch 4:  cost = 0.9291780591011047, accuracy = 0.5777999758720398\n",
      "Epoch  7, CIFAR-10 Batch 5:  cost = 0.9611579775810242, accuracy = 0.5633999705314636\n",
      "Epoch  8, CIFAR-10 Batch 1:  cost = 0.9939173460006714, accuracy = 0.5803999900817871\n",
      "Epoch  8, CIFAR-10 Batch 2:  cost = 0.9059697985649109, accuracy = 0.5748000144958496\n",
      "Epoch  8, CIFAR-10 Batch 3:  cost = 0.7164104580879211, accuracy = 0.5960000157356262\n",
      "Epoch  8, CIFAR-10 Batch 4:  cost = 0.7674842476844788, accuracy = 0.6001999974250793\n",
      "Epoch  8, CIFAR-10 Batch 5:  cost = 0.820539653301239, accuracy = 0.5934000015258789\n",
      "Epoch  9, CIFAR-10 Batch 1:  cost = 0.8799623250961304, accuracy = 0.5971999764442444\n",
      "Epoch  9, CIFAR-10 Batch 2:  cost = 0.8604192733764648, accuracy = 0.597000002861023\n",
      "Epoch  9, CIFAR-10 Batch 3:  cost = 0.6638122200965881, accuracy = 0.5997999906539917\n",
      "Epoch  9, CIFAR-10 Batch 4:  cost = 0.6841722726821899, accuracy = 0.6119999885559082\n",
      "Epoch  9, CIFAR-10 Batch 5:  cost = 0.6768506765365601, accuracy = 0.6046000123023987\n",
      "Epoch 10, CIFAR-10 Batch 1:  cost = 0.7780410647392273, accuracy = 0.6132000088691711\n",
      "Epoch 10, CIFAR-10 Batch 2:  cost = 0.733456552028656, accuracy = 0.6164000034332275\n",
      "Epoch 10, CIFAR-10 Batch 3:  cost = 0.5902298092842102, accuracy = 0.6159999966621399\n",
      "Epoch 10, CIFAR-10 Batch 4:  cost = 0.563793957233429, accuracy = 0.628600001335144\n",
      "Epoch 10, CIFAR-10 Batch 5:  cost = 0.6049053072929382, accuracy = 0.6118000149726868\n",
      "Epoch 11, CIFAR-10 Batch 1:  cost = 0.6733559370040894, accuracy = 0.6362000107765198\n",
      "Epoch 11, CIFAR-10 Batch 2:  cost = 0.645313560962677, accuracy = 0.6317999958992004\n",
      "Epoch 11, CIFAR-10 Batch 3:  cost = 0.5085856318473816, accuracy = 0.6291999816894531\n",
      "Epoch 11, CIFAR-10 Batch 4:  cost = 0.4733103811740875, accuracy = 0.6362000107765198\n",
      "Epoch 11, CIFAR-10 Batch 5:  cost = 0.5058267116546631, accuracy = 0.6168000102043152\n",
      "Epoch 12, CIFAR-10 Batch 1:  cost = 0.607393741607666, accuracy = 0.628600001335144\n",
      "Epoch 12, CIFAR-10 Batch 2:  cost = 0.5762272477149963, accuracy = 0.6420000195503235\n",
      "Epoch 12, CIFAR-10 Batch 3:  cost = 0.45493048429489136, accuracy = 0.628600001335144\n",
      "Epoch 12, CIFAR-10 Batch 4:  cost = 0.4136377274990082, accuracy = 0.6484000086784363\n",
      "Epoch 12, CIFAR-10 Batch 5:  cost = 0.425485223531723, accuracy = 0.6380000114440918\n",
      "Epoch 13, CIFAR-10 Batch 1:  cost = 0.49535542726516724, accuracy = 0.6367999911308289\n",
      "Epoch 13, CIFAR-10 Batch 2:  cost = 0.4891468584537506, accuracy = 0.6546000242233276\n",
      "Epoch 13, CIFAR-10 Batch 3:  cost = 0.34604784846305847, accuracy = 0.6481999754905701\n",
      "Epoch 13, CIFAR-10 Batch 4:  cost = 0.32946324348449707, accuracy = 0.656000018119812\n",
      "Epoch 13, CIFAR-10 Batch 5:  cost = 0.3979474604129791, accuracy = 0.6492000222206116\n",
      "Epoch 14, CIFAR-10 Batch 1:  cost = 0.43659621477127075, accuracy = 0.6349999904632568\n",
      "Epoch 14, CIFAR-10 Batch 2:  cost = 0.39889296889305115, accuracy = 0.652400016784668\n",
      "Epoch 14, CIFAR-10 Batch 3:  cost = 0.323003351688385, accuracy = 0.644599974155426\n",
      "Epoch 14, CIFAR-10 Batch 4:  cost = 0.29493218660354614, accuracy = 0.6632000207901001\n",
      "Epoch 14, CIFAR-10 Batch 5:  cost = 0.31205958127975464, accuracy = 0.650600016117096\n",
      "Epoch 15, CIFAR-10 Batch 1:  cost = 0.3861776292324066, accuracy = 0.6565999984741211\n",
      "Epoch 15, CIFAR-10 Batch 2:  cost = 0.3142092227935791, accuracy = 0.6661999821662903\n",
      "Epoch 15, CIFAR-10 Batch 3:  cost = 0.28348928689956665, accuracy = 0.6460000276565552\n",
      "Epoch 15, CIFAR-10 Batch 4:  cost = 0.24641022086143494, accuracy = 0.6769999861717224\n",
      "Epoch 15, CIFAR-10 Batch 5:  cost = 0.2655576169490814, accuracy = 0.6521999835968018\n",
      "Epoch 16, CIFAR-10 Batch 1:  cost = 0.33366090059280396, accuracy = 0.6657999753952026\n",
      "Epoch 16, CIFAR-10 Batch 2:  cost = 0.291187584400177, accuracy = 0.6564000248908997\n",
      "Epoch 16, CIFAR-10 Batch 3:  cost = 0.24610790610313416, accuracy = 0.6444000005722046\n",
      "Epoch 16, CIFAR-10 Batch 4:  cost = 0.2021772414445877, accuracy = 0.6805999875068665\n",
      "Epoch 16, CIFAR-10 Batch 5:  cost = 0.21466246247291565, accuracy = 0.6543999910354614\n",
      "Epoch 17, CIFAR-10 Batch 1:  cost = 0.2900007367134094, accuracy = 0.6814000010490417\n",
      "Epoch 17, CIFAR-10 Batch 2:  cost = 0.28063011169433594, accuracy = 0.6488000154495239\n",
      "Epoch 17, CIFAR-10 Batch 3:  cost = 0.217251256108284, accuracy = 0.6567999720573425\n",
      "Epoch 17, CIFAR-10 Batch 4:  cost = 0.1931130737066269, accuracy = 0.6654000282287598\n",
      "Epoch 17, CIFAR-10 Batch 5:  cost = 0.19485679268836975, accuracy = 0.6567999720573425\n",
      "Epoch 18, CIFAR-10 Batch 1:  cost = 0.24932217597961426, accuracy = 0.6743999719619751\n",
      "Epoch 18, CIFAR-10 Batch 2:  cost = 0.23408254981040955, accuracy = 0.6638000011444092\n",
      "Epoch 18, CIFAR-10 Batch 3:  cost = 0.18843837082386017, accuracy = 0.6651999950408936\n",
      "Epoch 18, CIFAR-10 Batch 4:  cost = 0.17305058240890503, accuracy = 0.6814000010490417\n",
      "Epoch 18, CIFAR-10 Batch 5:  cost = 0.15641972422599792, accuracy = 0.6796000003814697\n",
      "Epoch 19, CIFAR-10 Batch 1:  cost = 0.22693178057670593, accuracy = 0.6777999997138977\n",
      "Epoch 19, CIFAR-10 Batch 2:  cost = 0.21956200897693634, accuracy = 0.6705999970436096\n",
      "Epoch 19, CIFAR-10 Batch 3:  cost = 0.17790153622627258, accuracy = 0.6600000262260437\n",
      "Epoch 19, CIFAR-10 Batch 4:  cost = 0.16515879333019257, accuracy = 0.6836000084877014\n",
      "Epoch 19, CIFAR-10 Batch 5:  cost = 0.13012489676475525, accuracy = 0.6832000017166138\n"
     ]
    },
    {
     "name": "stdout",
     "output_type": "stream",
     "text": [
      "Epoch 20, CIFAR-10 Batch 1:  cost = 0.192277193069458, accuracy = 0.6848000288009644\n",
      "Epoch 20, CIFAR-10 Batch 2:  cost = 0.18883006274700165, accuracy = 0.6723999977111816\n",
      "Epoch 20, CIFAR-10 Batch 3:  cost = 0.13984745740890503, accuracy = 0.6669999957084656\n",
      "Epoch 20, CIFAR-10 Batch 4:  cost = 0.1717366874217987, accuracy = 0.6848000288009644\n",
      "Epoch 20, CIFAR-10 Batch 5:  cost = 0.11816976219415665, accuracy = 0.6877999901771545\n",
      "Epoch 21, CIFAR-10 Batch 1:  cost = 0.17881512641906738, accuracy = 0.6796000003814697\n",
      "Epoch 21, CIFAR-10 Batch 2:  cost = 0.1778726428747177, accuracy = 0.6776000261306763\n",
      "Epoch 21, CIFAR-10 Batch 3:  cost = 0.1368015706539154, accuracy = 0.6682000160217285\n",
      "Epoch 21, CIFAR-10 Batch 4:  cost = 0.14068098366260529, accuracy = 0.6863999962806702\n",
      "Epoch 21, CIFAR-10 Batch 5:  cost = 0.09004011750221252, accuracy = 0.6779999732971191\n",
      "Epoch 22, CIFAR-10 Batch 1:  cost = 0.15360543131828308, accuracy = 0.6819999814033508\n",
      "Epoch 22, CIFAR-10 Batch 2:  cost = 0.16670674085617065, accuracy = 0.6690000295639038\n",
      "Epoch 22, CIFAR-10 Batch 3:  cost = 0.12387032806873322, accuracy = 0.682200014591217\n",
      "Epoch 22, CIFAR-10 Batch 4:  cost = 0.12582935392856598, accuracy = 0.6919999718666077\n",
      "Epoch 22, CIFAR-10 Batch 5:  cost = 0.08745312690734863, accuracy = 0.6754000186920166\n",
      "Epoch 23, CIFAR-10 Batch 1:  cost = 0.17341431975364685, accuracy = 0.6682000160217285\n",
      "Epoch 23, CIFAR-10 Batch 2:  cost = 0.12712667882442474, accuracy = 0.6754000186920166\n",
      "Epoch 23, CIFAR-10 Batch 3:  cost = 0.09985355287790298, accuracy = 0.6895999908447266\n",
      "Epoch 23, CIFAR-10 Batch 4:  cost = 0.10955788940191269, accuracy = 0.6894000172615051\n",
      "Epoch 23, CIFAR-10 Batch 5:  cost = 0.08723923563957214, accuracy = 0.6826000213623047\n",
      "Epoch 24, CIFAR-10 Batch 1:  cost = 0.14731498062610626, accuracy = 0.676800012588501\n",
      "Epoch 24, CIFAR-10 Batch 2:  cost = 0.1152404174208641, accuracy = 0.6777999997138977\n",
      "Epoch 24, CIFAR-10 Batch 3:  cost = 0.07360251247882843, accuracy = 0.6837999820709229\n",
      "Epoch 24, CIFAR-10 Batch 4:  cost = 0.09078849852085114, accuracy = 0.6958000063896179\n",
      "Epoch 24, CIFAR-10 Batch 5:  cost = 0.05951716750860214, accuracy = 0.6761999726295471\n",
      "Epoch 25, CIFAR-10 Batch 1:  cost = 0.13334865868091583, accuracy = 0.6815999746322632\n",
      "Epoch 25, CIFAR-10 Batch 2:  cost = 0.11394836753606796, accuracy = 0.6818000078201294\n",
      "Epoch 25, CIFAR-10 Batch 3:  cost = 0.08585172891616821, accuracy = 0.6887999773025513\n",
      "Epoch 25, CIFAR-10 Batch 4:  cost = 0.08130115270614624, accuracy = 0.6845999956130981\n",
      "Epoch 25, CIFAR-10 Batch 5:  cost = 0.07143484055995941, accuracy = 0.66839998960495\n",
      "Epoch 26, CIFAR-10 Batch 1:  cost = 0.13317416608333588, accuracy = 0.6765999794006348\n",
      "Epoch 26, CIFAR-10 Batch 2:  cost = 0.10670570284128189, accuracy = 0.6729999780654907\n",
      "Epoch 26, CIFAR-10 Batch 3:  cost = 0.07450398057699203, accuracy = 0.6837999820709229\n",
      "Epoch 26, CIFAR-10 Batch 4:  cost = 0.07063498347997665, accuracy = 0.6912000179290771\n",
      "Epoch 26, CIFAR-10 Batch 5:  cost = 0.05044160038232803, accuracy = 0.6826000213623047\n",
      "Epoch 27, CIFAR-10 Batch 1:  cost = 0.11245562881231308, accuracy = 0.6772000193595886\n",
      "Epoch 27, CIFAR-10 Batch 2:  cost = 0.0905006006360054, accuracy = 0.6805999875068665\n",
      "Epoch 27, CIFAR-10 Batch 3:  cost = 0.05621229484677315, accuracy = 0.6880000233650208\n",
      "Epoch 27, CIFAR-10 Batch 4:  cost = 0.062066078186035156, accuracy = 0.6862000226974487\n",
      "Epoch 27, CIFAR-10 Batch 5:  cost = 0.04308416694402695, accuracy = 0.6844000220298767\n",
      "Epoch 28, CIFAR-10 Batch 1:  cost = 0.06789033114910126, accuracy = 0.6845999956130981\n",
      "Epoch 28, CIFAR-10 Batch 2:  cost = 0.07592307031154633, accuracy = 0.6800000071525574\n",
      "Epoch 28, CIFAR-10 Batch 3:  cost = 0.05452004820108414, accuracy = 0.676800012588501\n",
      "Epoch 28, CIFAR-10 Batch 4:  cost = 0.04634365811944008, accuracy = 0.6830000281333923\n",
      "Epoch 28, CIFAR-10 Batch 5:  cost = 0.03294834494590759, accuracy = 0.6912000179290771\n",
      "Epoch 29, CIFAR-10 Batch 1:  cost = 0.09421005845069885, accuracy = 0.6638000011444092\n",
      "Epoch 29, CIFAR-10 Batch 2:  cost = 0.0664006695151329, accuracy = 0.670799970626831\n",
      "Epoch 29, CIFAR-10 Batch 3:  cost = 0.041478805243968964, accuracy = 0.6746000051498413\n",
      "Epoch 29, CIFAR-10 Batch 4:  cost = 0.04470890015363693, accuracy = 0.6944000124931335\n",
      "Epoch 29, CIFAR-10 Batch 5:  cost = 0.029677998274564743, accuracy = 0.6912000179290771\n",
      "Epoch 30, CIFAR-10 Batch 1:  cost = 0.0672762393951416, accuracy = 0.6759999990463257\n",
      "Epoch 30, CIFAR-10 Batch 2:  cost = 0.061489395797252655, accuracy = 0.6700000166893005\n",
      "Epoch 30, CIFAR-10 Batch 3:  cost = 0.042767830193042755, accuracy = 0.6808000206947327\n",
      "Epoch 30, CIFAR-10 Batch 4:  cost = 0.04962003976106644, accuracy = 0.6913999915122986\n",
      "Epoch 30, CIFAR-10 Batch 5:  cost = 0.03216677904129028, accuracy = 0.6866000294685364\n",
      "Epoch 31, CIFAR-10 Batch 1:  cost = 0.07386776804924011, accuracy = 0.6859999895095825\n",
      "Epoch 31, CIFAR-10 Batch 2:  cost = 0.07073517143726349, accuracy = 0.6642000079154968\n",
      "Epoch 31, CIFAR-10 Batch 3:  cost = 0.04427118971943855, accuracy = 0.6934000253677368\n",
      "Epoch 31, CIFAR-10 Batch 4:  cost = 0.035020314157009125, accuracy = 0.7009999752044678\n",
      "Epoch 31, CIFAR-10 Batch 5:  cost = 0.0260830856859684, accuracy = 0.6970000267028809\n",
      "Epoch 32, CIFAR-10 Batch 1:  cost = 0.04253507778048515, accuracy = 0.6877999901771545\n",
      "Epoch 32, CIFAR-10 Batch 2:  cost = 0.06717973947525024, accuracy = 0.6607999801635742\n",
      "Epoch 32, CIFAR-10 Batch 3:  cost = 0.03503689914941788, accuracy = 0.696399986743927\n",
      "Epoch 32, CIFAR-10 Batch 4:  cost = 0.042447105050086975, accuracy = 0.6819999814033508\n",
      "Epoch 32, CIFAR-10 Batch 5:  cost = 0.034539349377155304, accuracy = 0.6916000247001648\n",
      "Epoch 33, CIFAR-10 Batch 1:  cost = 0.05149959400296211, accuracy = 0.6886000037193298\n",
      "Epoch 33, CIFAR-10 Batch 2:  cost = 0.09779924154281616, accuracy = 0.6833999752998352\n",
      "Epoch 33, CIFAR-10 Batch 3:  cost = 0.034932225942611694, accuracy = 0.6972000002861023\n",
      "Epoch 33, CIFAR-10 Batch 4:  cost = 0.030691256746649742, accuracy = 0.6917999982833862\n",
      "Epoch 33, CIFAR-10 Batch 5:  cost = 0.013651831075549126, accuracy = 0.6919999718666077\n",
      "Epoch 34, CIFAR-10 Batch 1:  cost = 0.04502985626459122, accuracy = 0.6872000098228455\n",
      "Epoch 34, CIFAR-10 Batch 2:  cost = 0.03826624155044556, accuracy = 0.6880000233650208\n",
      "Epoch 34, CIFAR-10 Batch 3:  cost = 0.029830852523446083, accuracy = 0.6894000172615051\n",
      "Epoch 34, CIFAR-10 Batch 4:  cost = 0.02570689097046852, accuracy = 0.671999990940094\n",
      "Epoch 34, CIFAR-10 Batch 5:  cost = 0.020156430080533028, accuracy = 0.6827999949455261\n",
      "Epoch 35, CIFAR-10 Batch 1:  cost = 0.026780953630805016, accuracy = 0.6937999725341797\n",
      "Epoch 35, CIFAR-10 Batch 2:  cost = 0.0417773611843586, accuracy = 0.692799985408783\n",
      "Epoch 35, CIFAR-10 Batch 3:  cost = 0.020163627341389656, accuracy = 0.6935999989509583\n",
      "Epoch 35, CIFAR-10 Batch 4:  cost = 0.026801830157637596, accuracy = 0.6848000288009644\n",
      "Epoch 35, CIFAR-10 Batch 5:  cost = 0.0137598542496562, accuracy = 0.6844000220298767\n",
      "Epoch 36, CIFAR-10 Batch 1:  cost = 0.03519260510802269, accuracy = 0.675599992275238\n",
      "Epoch 36, CIFAR-10 Batch 2:  cost = 0.03486018627882004, accuracy = 0.6899999976158142\n",
      "Epoch 36, CIFAR-10 Batch 3:  cost = 0.016671383753418922, accuracy = 0.6985999941825867\n",
      "Epoch 36, CIFAR-10 Batch 4:  cost = 0.02151535078883171, accuracy = 0.6869999766349792\n",
      "Epoch 36, CIFAR-10 Batch 5:  cost = 0.01251076627522707, accuracy = 0.6886000037193298\n",
      "Epoch 37, CIFAR-10 Batch 1:  cost = 0.018856976181268692, accuracy = 0.692799985408783\n",
      "Epoch 37, CIFAR-10 Batch 2:  cost = 0.02350880764424801, accuracy = 0.6887999773025513\n",
      "Epoch 37, CIFAR-10 Batch 3:  cost = 0.01907026767730713, accuracy = 0.6917999982833862\n",
      "Epoch 37, CIFAR-10 Batch 4:  cost = 0.02477775141596794, accuracy = 0.6812000274658203\n",
      "Epoch 37, CIFAR-10 Batch 5:  cost = 0.012673264369368553, accuracy = 0.6859999895095825\n",
      "Epoch 38, CIFAR-10 Batch 1:  cost = 0.03124859929084778, accuracy = 0.6873999834060669\n",
      "Epoch 38, CIFAR-10 Batch 2:  cost = 0.03225203603506088, accuracy = 0.6959999799728394\n",
      "Epoch 38, CIFAR-10 Batch 3:  cost = 0.019049150869250298, accuracy = 0.6851999759674072\n",
      "Epoch 38, CIFAR-10 Batch 4:  cost = 0.017478611320257187, accuracy = 0.6912000179290771\n"
     ]
    },
    {
     "name": "stdout",
     "output_type": "stream",
     "text": [
      "Epoch 38, CIFAR-10 Batch 5:  cost = 0.017114365473389626, accuracy = 0.6881999969482422\n",
      "Epoch 39, CIFAR-10 Batch 1:  cost = 0.02060314640402794, accuracy = 0.6984000205993652\n",
      "Epoch 39, CIFAR-10 Batch 2:  cost = 0.02181604690849781, accuracy = 0.692799985408783\n",
      "Epoch 39, CIFAR-10 Batch 3:  cost = 0.015521456487476826, accuracy = 0.701200008392334\n",
      "Epoch 39, CIFAR-10 Batch 4:  cost = 0.01300380565226078, accuracy = 0.6940000057220459\n",
      "Epoch 39, CIFAR-10 Batch 5:  cost = 0.018335584551095963, accuracy = 0.6796000003814697\n",
      "Epoch 40, CIFAR-10 Batch 1:  cost = 0.01889713481068611, accuracy = 0.6777999997138977\n",
      "Epoch 40, CIFAR-10 Batch 2:  cost = 0.028806433081626892, accuracy = 0.6890000104904175\n",
      "Epoch 40, CIFAR-10 Batch 3:  cost = 0.017596952617168427, accuracy = 0.6944000124931335\n",
      "Epoch 40, CIFAR-10 Batch 4:  cost = 0.009904070757329464, accuracy = 0.6826000213623047\n",
      "Epoch 40, CIFAR-10 Batch 5:  cost = 0.013928718864917755, accuracy = 0.6850000023841858\n",
      "Epoch 41, CIFAR-10 Batch 1:  cost = 0.016945620998740196, accuracy = 0.6958000063896179\n",
      "Epoch 41, CIFAR-10 Batch 2:  cost = 0.01440899632871151, accuracy = 0.6955999732017517\n",
      "Epoch 41, CIFAR-10 Batch 3:  cost = 0.009647349826991558, accuracy = 0.6930000185966492\n",
      "Epoch 41, CIFAR-10 Batch 4:  cost = 0.013824311085045338, accuracy = 0.7006000280380249\n",
      "Epoch 41, CIFAR-10 Batch 5:  cost = 0.009965569712221622, accuracy = 0.6837999820709229\n",
      "Epoch 42, CIFAR-10 Batch 1:  cost = 0.016830915585160255, accuracy = 0.6953999996185303\n",
      "Epoch 42, CIFAR-10 Batch 2:  cost = 0.017430022358894348, accuracy = 0.6923999786376953\n",
      "Epoch 42, CIFAR-10 Batch 3:  cost = 0.01174001395702362, accuracy = 0.6934000253677368\n",
      "Epoch 42, CIFAR-10 Batch 4:  cost = 0.012525101192295551, accuracy = 0.6941999793052673\n",
      "Epoch 42, CIFAR-10 Batch 5:  cost = 0.02346106991171837, accuracy = 0.6794000267982483\n",
      "Epoch 43, CIFAR-10 Batch 1:  cost = 0.016889724880456924, accuracy = 0.7026000022888184\n",
      "Epoch 43, CIFAR-10 Batch 2:  cost = 0.022099701687693596, accuracy = 0.6858000159263611\n",
      "Epoch 43, CIFAR-10 Batch 3:  cost = 0.011094684712588787, accuracy = 0.6855999827384949\n",
      "Epoch 43, CIFAR-10 Batch 4:  cost = 0.008895022794604301, accuracy = 0.6808000206947327\n",
      "Epoch 43, CIFAR-10 Batch 5:  cost = 0.007674302905797958, accuracy = 0.6832000017166138\n",
      "Epoch 44, CIFAR-10 Batch 1:  cost = 0.01723559759557247, accuracy = 0.6904000043869019\n",
      "Epoch 44, CIFAR-10 Batch 2:  cost = 0.010557329282164574, accuracy = 0.6937999725341797\n",
      "Epoch 44, CIFAR-10 Batch 3:  cost = 0.008503829129040241, accuracy = 0.6922000050544739\n",
      "Epoch 44, CIFAR-10 Batch 4:  cost = 0.010173474438488483, accuracy = 0.6805999875068665\n",
      "Epoch 44, CIFAR-10 Batch 5:  cost = 0.00714010838419199, accuracy = 0.6873999834060669\n",
      "Epoch 45, CIFAR-10 Batch 1:  cost = 0.012600925751030445, accuracy = 0.6917999982833862\n",
      "Epoch 45, CIFAR-10 Batch 2:  cost = 0.011744314804673195, accuracy = 0.6922000050544739\n",
      "Epoch 45, CIFAR-10 Batch 3:  cost = 0.01464091520756483, accuracy = 0.6809999942779541\n",
      "Epoch 45, CIFAR-10 Batch 4:  cost = 0.008523485623300076, accuracy = 0.6812000274658203\n",
      "Epoch 45, CIFAR-10 Batch 5:  cost = 0.006684165447950363, accuracy = 0.6851999759674072\n",
      "Epoch 46, CIFAR-10 Batch 1:  cost = 0.013870449736714363, accuracy = 0.6851999759674072\n",
      "Epoch 46, CIFAR-10 Batch 2:  cost = 0.008315246552228928, accuracy = 0.6922000050544739\n",
      "Epoch 46, CIFAR-10 Batch 3:  cost = 0.004935706965625286, accuracy = 0.6851999759674072\n",
      "Epoch 46, CIFAR-10 Batch 4:  cost = 0.006420501507818699, accuracy = 0.673799991607666\n",
      "Epoch 46, CIFAR-10 Batch 5:  cost = 0.004797611851245165, accuracy = 0.6814000010490417\n",
      "Epoch 47, CIFAR-10 Batch 1:  cost = 0.02451314404606819, accuracy = 0.6797999739646912\n",
      "Epoch 47, CIFAR-10 Batch 2:  cost = 0.010820602998137474, accuracy = 0.6905999779701233\n",
      "Epoch 47, CIFAR-10 Batch 3:  cost = 0.005999739281833172, accuracy = 0.6934000253677368\n",
      "Epoch 47, CIFAR-10 Batch 4:  cost = 0.006815600208938122, accuracy = 0.6883999705314636\n",
      "Epoch 47, CIFAR-10 Batch 5:  cost = 0.004313554614782333, accuracy = 0.6912000179290771\n",
      "Epoch 48, CIFAR-10 Batch 1:  cost = 0.010508107021450996, accuracy = 0.6832000017166138\n",
      "Epoch 48, CIFAR-10 Batch 2:  cost = 0.006579667329788208, accuracy = 0.6973999738693237\n",
      "Epoch 48, CIFAR-10 Batch 3:  cost = 0.004833567421883345, accuracy = 0.6881999969482422\n",
      "Epoch 48, CIFAR-10 Batch 4:  cost = 0.006503610871732235, accuracy = 0.6758000254631042\n",
      "Epoch 48, CIFAR-10 Batch 5:  cost = 0.003680286230519414, accuracy = 0.6916000247001648\n",
      "Epoch 49, CIFAR-10 Batch 1:  cost = 0.009098516777157784, accuracy = 0.6880000233650208\n",
      "Epoch 49, CIFAR-10 Batch 2:  cost = 0.005035621114075184, accuracy = 0.6837999820709229\n",
      "Epoch 49, CIFAR-10 Batch 3:  cost = 0.004836077336221933, accuracy = 0.6935999989509583\n",
      "Epoch 49, CIFAR-10 Batch 4:  cost = 0.005227898247539997, accuracy = 0.6764000058174133\n",
      "Epoch 49, CIFAR-10 Batch 5:  cost = 0.00450689485296607, accuracy = 0.6898000240325928\n",
      "Epoch 50, CIFAR-10 Batch 1:  cost = 0.012217243202030659, accuracy = 0.6815999746322632\n",
      "Epoch 50, CIFAR-10 Batch 2:  cost = 0.00359199452213943, accuracy = 0.6876000165939331\n",
      "Epoch 50, CIFAR-10 Batch 3:  cost = 0.006419844925403595, accuracy = 0.6905999779701233\n",
      "Epoch 50, CIFAR-10 Batch 4:  cost = 0.020123837515711784, accuracy = 0.6682000160217285\n",
      "Epoch 50, CIFAR-10 Batch 5:  cost = 0.008733751252293587, accuracy = 0.6697999835014343\n"
     ]
    }
   ],
   "source": [
    "\"\"\"\n",
    "DON'T MODIFY ANYTHING IN THIS CELL\n",
    "\"\"\"\n",
    "save_model_path = './image_classification'\n",
    "\n",
    "print('Training...')\n",
    "with tf.Session() as sess:\n",
    "    # Initializing the variables\n",
    "    sess.run(tf.global_variables_initializer())\n",
    "    \n",
    "    # Training cycle\n",
    "    for epoch in range(epochs):\n",
    "        # Loop over all batches\n",
    "        n_batches = 5\n",
    "        for batch_i in range(1, n_batches + 1):\n",
    "            for batch_features, batch_labels in helper.load_preprocess_training_batch(batch_i, batch_size):\n",
    "                train_neural_network(sess, optimizer, keep_probability, batch_features, batch_labels)\n",
    "            print('Epoch {:>2}, CIFAR-10 Batch {}:  '.format(epoch + 1, batch_i), end='')\n",
    "            print_stats(sess, batch_features, batch_labels, cost, accuracy)\n",
    "            \n",
    "    # Save Model\n",
    "    saver = tf.train.Saver()\n",
    "    save_path = saver.save(sess, save_model_path)"
   ]
  },
  {
   "cell_type": "markdown",
   "metadata": {},
   "source": [
    "# 检查点\n",
    "\n",
    "模型已保存到本地。\n",
    "\n",
    "## 测试模型\n",
    "\n",
    "利用测试数据集测试你的模型。这将是最终的准确率。你的准确率应该高于 50%。如果没达到，请继续调整模型结构和参数。"
   ]
  },
  {
   "cell_type": "code",
   "execution_count": 24,
   "metadata": {},
   "outputs": [
    {
     "name": "stdout",
     "output_type": "stream",
     "text": [
      "INFO:tensorflow:Restoring parameters from ./image_classification\n",
      "Testing Accuracy: 0.6708984375\n",
      "\n"
     ]
    },
    {
     "data": {
      "image/png": "[encoded data removed]",
      "text/plain": [
       "<matplotlib.figure.Figure at 0x19c48d2c6d8>"
      ]
     },
     "metadata": {
      "image/png": {
       "height": 319,
       "width": 355
      }
     },
     "output_type": "display_data"
    }
   ],
   "source": [
    "\"\"\"\n",
    "DON'T MODIFY ANYTHING IN THIS CELL\n",
    "\"\"\"\n",
    "%matplotlib inline\n",
    "%config InlineBackend.figure_format = 'retina'\n",
    "\n",
    "import tensorflow as tf\n",
    "import pickle\n",
    "import helper\n",
    "import random\n",
    "\n",
    "# Set batch size if not already set\n",
    "try:\n",
    "    if batch_size:\n",
    "        pass\n",
    "except NameError:\n",
    "    batch_size = 64\n",
    "\n",
    "save_model_path = './image_classification'\n",
    "n_samples = 4\n",
    "top_n_predictions = 3\n",
    "\n",
    "def test_model():\n",
    "    \"\"\"\n",
    "    Test the saved model against the test dataset\n",
    "    \"\"\"\n",
    "\n",
    "    test_features, test_labels = pickle.load(open('preprocess_test.p', mode='rb'))\n",
    "    loaded_graph = tf.Graph()\n",
    "\n",
    "    with tf.Session(graph=loaded_graph) as sess:\n",
    "        # Load model\n",
    "        loader = tf.train.import_meta_graph(save_model_path + '.meta')\n",
    "        loader.restore(sess, save_model_path)\n",
    "\n",
    "        # Get Tensors from loaded model\n",
    "        loaded_x = loaded_graph.get_tensor_by_name('x:0')\n",
    "        loaded_y = loaded_graph.get_tensor_by_name('y:0')\n",
    "        loaded_keep_prob = loaded_graph.get_tensor_by_name('keep_prob:0')\n",
    "        loaded_logits = loaded_graph.get_tensor_by_name('logits:0')\n",
    "        loaded_acc = loaded_graph.get_tensor_by_name('accuracy:0')\n",
    "        \n",
    "        # Get accuracy in batches for memory limitations\n",
    "        test_batch_acc_total = 0\n",
    "        test_batch_count = 0\n",
    "        \n",
    "        for test_feature_batch, test_label_batch in helper.batch_features_labels(test_features, test_labels, batch_size):\n",
    "            test_batch_acc_total += sess.run(\n",
    "                loaded_acc,\n",
    "                feed_dict={loaded_x: test_feature_batch, loaded_y: test_label_batch, loaded_keep_prob: 1.0})\n",
    "            test_batch_count += 1\n",
    "\n",
    "        print('Testing Accuracy: {}\\n'.format(test_batch_acc_total/test_batch_count))\n",
    "\n",
    "        # Print Random Samples\n",
    "        random_test_features, random_test_labels = tuple(zip(*random.sample(list(zip(test_features, test_labels)), n_samples)))\n",
    "        random_test_predictions = sess.run(\n",
    "            tf.nn.top_k(tf.nn.softmax(loaded_logits), top_n_predictions),\n",
    "            feed_dict={loaded_x: random_test_features, loaded_y: random_test_labels, loaded_keep_prob: 1.0})\n",
    "        helper.display_image_predictions(random_test_features, random_test_labels, random_test_predictions)\n",
    "\n",
    "\n",
    "test_model()"
   ]
  },
  {
   "cell_type": "markdown",
   "metadata": {},
   "source": [
    "## 为何准确率只有50-80%？\n",
    "\n",
    "你可能想问，为何准确率不能更高了？首先，对于简单的 CNN 网络来说，50% 已经不低了。纯粹猜测的准确率为10%。但是，你可能注意到有人的准确率[远远超过 80%](http://rodrigob.github.io/are_we_there_yet/build/classification_datasets_results.html#43494641522d3130)。这是因为我们还没有介绍所有的神经网络知识。我们还需要掌握一些其他技巧。\n",
    "\n",
    "## 提交项目\n",
    "\n",
    "提交项目时，确保先运行所有单元，然后再保存记事本。将 notebook 文件另存为“dlnd_image_classification.ipynb”，再在目录 \"File\" -> \"Download as\" 另存为 HTML 格式。请在提交的项目中包含 “helper.py” 和 “problem_unittests.py” 文件。\n"
   ]
  }
 ],
 "metadata": {
  "kernelspec": {
   "display_name": "Python 3",
   "language": "python",
   "name": "python3"
  },
  "language_info": {
   "codemirror_mode": {
    "name": "ipython",
    "version": 3
   },
   "file_extension": ".py",
   "mimetype": "text/x-python",
   "name": "python",
   "nbconvert_exporter": "python",
   "pygments_lexer": "ipython3",
   "version": "3.5.4"
  }
 },
 "nbformat": 4,
 "nbformat_minor": 1
}
