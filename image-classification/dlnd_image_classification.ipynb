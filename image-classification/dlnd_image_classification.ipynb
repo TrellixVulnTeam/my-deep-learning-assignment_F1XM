{
 "cells": [
  {
   "cell_type": "markdown",
   "metadata": {
    "collapsed": true
   },
   "source": [
    "# 图像分类\n",
    "\n",
    "在此项目中，你将对 [CIFAR-10 数据集](https://www.cs.toronto.edu/~kriz/cifar.html) 中的图片进行分类。该数据集包含飞机、猫狗和其他物体。你需要预处理这些图片，然后用所有样本训练一个卷积神经网络。图片需要标准化（normalized），标签需要采用 one-hot 编码。你需要应用所学的知识构建卷积的、最大池化（max pooling）、丢弃（dropout）和完全连接（fully connected）的层。最后，你需要在样本图片上看到神经网络的预测结果。\n",
    "\n",
    "\n",
    "## 获取数据\n",
    "\n",
    "请运行以下单元，以下载 [CIFAR-10 数据集（Python版）](https://www.cs.toronto.edu/~kriz/cifar-10-python.tar.gz)。\n"
   ]
  },
  {
   "cell_type": "code",
   "execution_count": 1,
   "metadata": {},
   "outputs": [
    {
     "name": "stdout",
     "output_type": "stream",
     "text": [
      "All files found!\n"
     ]
    }
   ],
   "source": [
    "\"\"\"\n",
    "DON'T MODIFY ANYTHING IN THIS CELL THAT IS BELOW THIS LINE\n",
    "\"\"\"\n",
    "from urllib.request import urlretrieve\n",
    "from os.path import isfile, isdir\n",
    "from tqdm import tqdm\n",
    "import problem_unittests as tests\n",
    "import tarfile\n",
    "\n",
    "cifar10_dataset_folder_path = 'cifar-10-batches-py'\n",
    "\n",
    "# Use Floyd's cifar-10 dataset if present\n",
    "floyd_cifar10_location = '/input/cifar-10/python.tar.gz'\n",
    "if isfile(floyd_cifar10_location):\n",
    "    tar_gz_path = floyd_cifar10_location\n",
    "else:\n",
    "    tar_gz_path = 'cifar-10-python.tar.gz'\n",
    "\n",
    "class DLProgress(tqdm):\n",
    "    last_block = 0\n",
    "\n",
    "    def hook(self, block_num=1, block_size=1, total_size=None):\n",
    "        self.total = total_size\n",
    "        self.update((block_num - self.last_block) * block_size)\n",
    "        self.last_block = block_num\n",
    "\n",
    "if not isfile(tar_gz_path):\n",
    "    with DLProgress(unit='B', unit_scale=True, miniters=1, desc='CIFAR-10 Dataset') as pbar:\n",
    "        urlretrieve(\n",
    "            'https://www.cs.toronto.edu/~kriz/cifar-10-python.tar.gz',\n",
    "            tar_gz_path,\n",
    "            pbar.hook)\n",
    "\n",
    "if not isdir(cifar10_dataset_folder_path):\n",
    "    with tarfile.open(tar_gz_path) as tar:\n",
    "        tar.extractall()\n",
    "        tar.close()\n",
    "\n",
    "\n",
    "tests.test_folder_path(cifar10_dataset_folder_path)"
   ]
  },
  {
   "cell_type": "markdown",
   "metadata": {},
   "source": [
    "## 探索数据\n",
    "\n",
    "该数据集分成了几部分／批次（batches），以免你的机器在计算时内存不足。CIFAR-10 数据集包含 5 个部分，名称分别为 `data_batch_1`、`data_batch_2`，以此类推。每个部分都包含以下某个类别的标签和图片：\n",
    "\n",
    "* 飞机\n",
    "* 汽车\n",
    "* 鸟类\n",
    "* 猫\n",
    "* 鹿\n",
    "* 狗\n",
    "* 青蛙\n",
    "* 马\n",
    "* 船只\n",
    "* 卡车\n",
    "\n",
    "了解数据集也是对数据进行预测的必经步骤。你可以通过更改 `batch_id` 和 `sample_id` 探索下面的代码单元。`batch_id` 是数据集一个部分的 ID（1 到 5）。`sample_id` 是该部分中图片和标签对（label pair）的 ID。\n",
    "\n",
    "问问你自己：“可能的标签有哪些？”、“图片数据的值范围是多少？”、“标签是按顺序排列，还是随机排列的？”。思考类似的问题，有助于你预处理数据，并使预测结果更准确。\n"
   ]
  },
  {
   "cell_type": "code",
   "execution_count": 2,
   "metadata": {},
   "outputs": [
    {
     "name": "stdout",
     "output_type": "stream",
     "text": [
      "\n",
      "Stats of batch 1:\n",
      "Samples: 10000\n",
      "Label Counts: {0: 1005, 1: 974, 2: 1032, 3: 1016, 4: 999, 5: 937, 6: 1030, 7: 1001, 8: 1025, 9: 981}\n",
      "First 20 Labels: [6, 9, 9, 4, 1, 1, 2, 7, 8, 3, 4, 7, 7, 2, 9, 9, 9, 3, 2, 6]\n",
      "\n",
      "Example of Image 5:\n",
      "Image - Min Value: 0 Max Value: 252\n",
      "Image - Shape: (32, 32, 3)\n",
      "Label - Label Id: 1 Name: automobile\n"
     ]
    },
    {
     "data": {
      "image/png": "[encoded data removed]",
      "text/plain": [
       "<matplotlib.figure.Figure at 0x254b2520be0>"
      ]
     },
     "metadata": {
      "image/png": {
       "height": 250,
       "width": 253
      }
     },
     "output_type": "display_data"
    }
   ],
   "source": [
    "%matplotlib inline\n",
    "%config InlineBackend.figure_format = 'retina'\n",
    "\n",
    "import helper\n",
    "import numpy as np\n",
    "\n",
    "# Explore the dataset\n",
    "batch_id = 1\n",
    "sample_id = 5\n",
    "helper.display_stats(cifar10_dataset_folder_path, batch_id, sample_id)"
   ]
  },
  {
   "cell_type": "markdown",
   "metadata": {},
   "source": [
    "## 实现预处理函数\n",
    "\n",
    "### 标准化\n",
    "\n",
    "在下面的单元中，实现 `normalize` 函数，传入图片数据 `x`，并返回标准化 Numpy 数组。值应该在 0 到 1 的范围内（含 0 和 1）。返回对象应该和 `x` 的形状一样。\n"
   ]
  },
  {
   "cell_type": "code",
   "execution_count": 8,
   "metadata": {},
   "outputs": [
    {
     "name": "stdout",
     "output_type": "stream",
     "text": [
      "Tests Passed\n"
     ]
    }
   ],
   "source": [
    "def normalize(x):\n",
    "    \"\"\"\n",
    "    Normalize a list of sample image data in the range of 0 to 1\n",
    "    : x: List of image data.  The image shape is (32, 32, 3)\n",
    "    : return: Numpy array of normalize data\n",
    "    \"\"\"\n",
    "    # TODO: Implement Function\n",
    "    return (x-x.min())/(x.max()-x.min())\n",
    "\n",
    "\n",
    "\"\"\"\n",
    "DON'T MODIFY ANYTHING IN THIS CELL THAT IS BELOW THIS LINE\n",
    "\"\"\"\n",
    "tests.test_normalize(normalize)"
   ]
  },
  {
   "cell_type": "markdown",
   "metadata": {},
   "source": [
    "### One-hot 编码\n",
    "\n",
    "和之前的代码单元一样，你将为预处理实现一个函数。这次，你将实现 `one_hot_encode` 函数。输入，也就是 `x`，是一个标签列表。实现该函数，以返回为 one_hot 编码的 Numpy 数组的标签列表。标签的可能值为 0 到 9。每次调用 `one_hot_encode` 时，对于每个值，one_hot 编码函数应该返回相同的编码。确保将编码映射保存到该函数外面。\n",
    "\n",
    "提示：不要重复发明轮子。\n",
    "目的是去除label数值大小不一样的影响"
   ]
  },
  {
   "cell_type": "code",
   "execution_count": 9,
   "metadata": {},
   "outputs": [
    {
     "name": "stdout",
     "output_type": "stream",
     "text": [
      "Tests Passed\n"
     ]
    }
   ],
   "source": [
    "#from sklearn import preprocessing\n",
    "def one_hot_encode(x):\n",
    "    \"\"\"\n",
    "    One hot encode a list of sample labels. Return a one-hot encoded vector for each label.\n",
    "    : x: List of sample Labels\n",
    "    : return: Numpy array of one-hot encoded labels\n",
    "    \"\"\"\n",
    "    # TODO: Implement Function\n",
    "    #lb = preprocessing.LabelBinarizer()\n",
    "    #lb.fit([0,1,2,3,4,5,6,7,8,9])\n",
    "    #return lb.transform(x)\n",
    "    return np.eye(10)[x]\n",
    "\n",
    "\n",
    "\"\"\"\n",
    "DON'T MODIFY ANYTHING IN THIS CELL THAT IS BELOW THIS LINE\n",
    "\"\"\"\n",
    "tests.test_one_hot_encode(one_hot_encode)"
   ]
  },
  {
   "cell_type": "markdown",
   "metadata": {},
   "source": [
    "### 随机化数据\n",
    "\n",
    "之前探索数据时，你已经了解到，样本的顺序是随机的。再随机化一次也不会有什么关系，但是对于这个数据集没有必要。\n"
   ]
  },
  {
   "cell_type": "markdown",
   "metadata": {},
   "source": [
    "## 预处理所有数据并保存\n",
    "\n",
    "运行下方的代码单元，将预处理所有 CIFAR-10 数据，并保存到文件中。下面的代码还使用了 10% 的训练数据，用来验证。\n"
   ]
  },
  {
   "cell_type": "code",
   "execution_count": 10,
   "metadata": {
    "collapsed": true
   },
   "outputs": [],
   "source": [
    "\"\"\"\n",
    "DON'T MODIFY ANYTHING IN THIS CELL\n",
    "\"\"\"\n",
    "# Preprocess Training, Validation, and Testing Data\n",
    "helper.preprocess_and_save_data(cifar10_dataset_folder_path, normalize, one_hot_encode)"
   ]
  },
  {
   "cell_type": "markdown",
   "metadata": {},
   "source": [
    "# 检查点\n",
    "\n",
    "这是你的第一个检查点。如果你什么时候决定再回到该记事本，或需要重新启动该记事本，你可以从这里开始。预处理的数据已保存到本地。\n"
   ]
  },
  {
   "cell_type": "code",
   "execution_count": 9,
   "metadata": {
    "collapsed": true
   },
   "outputs": [],
   "source": [
    "\"\"\"\n",
    "DON'T MODIFY ANYTHING IN THIS CELL\n",
    "\"\"\"\n",
    "import pickle\n",
    "import problem_unittests as tests\n",
    "import helper\n",
    "\n",
    "# Load the Preprocessed Validation data\n",
    "valid_features, valid_labels = pickle.load(open('preprocess_validation.p', mode='rb'))"
   ]
  },
  {
   "cell_type": "markdown",
   "metadata": {},
   "source": [
    "## 构建网络\n",
    "\n",
    "对于该神经网络，你需要将每层都构建为一个函数。你看到的大部分代码都位于函数外面。要更全面地测试你的代码，我们需要你将每层放入一个函数中。这样使我们能够提供更好的反馈，并使用我们的统一测试检测简单的错误，然后再提交项目。\n",
    "\n",
    ">**注意**：如果你觉得每周很难抽出足够的时间学习这门课程，我们为此项目提供了一个小捷径。对于接下来的几个问题，你可以使用 [TensorFlow Layers](https://www.tensorflow.org/api_docs/python/tf/layers) 或 [TensorFlow Layers (contrib)](https://www.tensorflow.org/api_guides/python/contrib.layers) 程序包中的类来构建每个层级，但是“卷积和最大池化层级”部分的层级除外。TF Layers 和 Keras 及 TFLearn 层级类似，因此很容易学会。\n",
    "\n",
    ">但是，如果你想充分利用这门课程，请尝试自己解决所有问题，不使用 TF Layers 程序包中的任何类。你依然可以使用其他程序包中的类，这些类和你在 TF Layers 中的类名称是一样的！例如，你可以使用 TF Neural Network 版本的 `conv2d` 类 [tf.nn.conv2d](https://www.tensorflow.org/api_docs/python/tf/nn/conv2d)，而不是 TF Layers 版本的 `conv2d` 类 [tf.layers.conv2d](https://www.tensorflow.org/api_docs/python/tf/layers/conv2d)。\n",
    "\n",
    "我们开始吧！\n",
    "\n",
    "\n",
    "### 输入\n",
    "\n",
    "神经网络需要读取图片数据、one-hot 编码标签和丢弃保留概率（dropout keep probability）。请实现以下函数：\n",
    "\n",
    "* 实现 `neural_net_image_input`\n",
    " * 返回 [TF Placeholder](https://www.tensorflow.org/api_docs/python/tf/placeholder)\n",
    " * 使用 `image_shape` 设置形状，部分大小设为 `None`\n",
    " * 使用 [TF Placeholder](https://www.tensorflow.org/api_docs/python/tf/placeholder) 中的 TensorFlow `name` 参数对 TensorFlow 占位符 \"x\" 命名\n",
    "* 实现 `neural_net_label_input`\n",
    " * 返回 [TF Placeholder](https://www.tensorflow.org/api_docs/python/tf/placeholder)\n",
    " * 使用 `n_classes` 设置形状，部分大小设为 `None`\n",
    " * 使用 [TF Placeholder](https://www.tensorflow.org/api_docs/python/tf/placeholder) 中的 TensorFlow `name` 参数对 TensorFlow 占位符 \"y\" 命名\n",
    "* 实现 `neural_net_keep_prob_input`\n",
    " * 返回 [TF Placeholder](https://www.tensorflow.org/api_docs/python/tf/placeholder)，用于丢弃保留概率\n",
    " * 使用 [TF Placeholder](https://www.tensorflow.org/api_docs/python/tf/placeholder) 中的 TensorFlow `name` 参数对 TensorFlow 占位符 \"keep_prob\" 命名\n",
    "\n",
    "这些名称将在项目结束时，用于加载保存的模型。\n",
    "\n",
    "注意：TensorFlow 中的 `None` 表示形状可以是动态大小。"
   ]
  },
  {
   "cell_type": "code",
   "execution_count": 11,
   "metadata": {},
   "outputs": [
    {
     "name": "stdout",
     "output_type": "stream",
     "text": [
      "Image Input Tests Passed.\n",
      "Label Input Tests Passed.\n",
      "Keep Prob Tests Passed.\n"
     ]
    }
   ],
   "source": [
    "import tensorflow as tf\n",
    "\n",
    "def neural_net_image_input(image_shape):\n",
    "    \"\"\"\n",
    "    Return a Tensor for a batch of image input\n",
    "    : image_shape: Shape of the images\n",
    "    : return: Tensor for image input.\n",
    "    \"\"\"\n",
    "    # TODO: Implement Function\n",
    "    #return tf.placeholder(tf.float32, shape=(None,image_shape[0],image_shape[1],image_shape[2]), name='x')\n",
    "    #print(image_shape)\n",
    "    return tf.placeholder(tf.float32, [None, *image_shape], name='x')#是因为image_shape是(32, 32, 3)\n",
    "\n",
    "\n",
    "\n",
    "def neural_net_label_input(n_classes):\n",
    "    \"\"\"\n",
    "    Return a Tensor for a batch of label input\n",
    "    : n_classes: Number of classes\n",
    "    : return: Tensor for label input.\n",
    "    \"\"\"\n",
    "    # TODO: Implement Function\n",
    "    #print(n_classes)\n",
    "    return tf.placeholder(tf.float32, [None,n_classes], name='y')#无*\n",
    "    #return tf.placeholder(tf.float32, shape=(None,n_classes),name='y')\n",
    "\n",
    "\n",
    "\n",
    "def neural_net_keep_prob_input():\n",
    "    \"\"\"\n",
    "    Return a Tensor for keep probability\n",
    "    : return: Tensor for keep probability.\n",
    "    \"\"\"\n",
    "    # TODO: Implement Function\n",
    "    return tf.placeholder(tf.float32, name='keep_prob')\n",
    "\n",
    "\n",
    "\"\"\"\n",
    "DON'T MODIFY ANYTHING IN THIS CELL THAT IS BELOW THIS LINE\n",
    "\"\"\"\n",
    "tf.reset_default_graph()\n",
    "tests.test_nn_image_inputs(neural_net_image_input)\n",
    "tests.test_nn_label_inputs(neural_net_label_input)\n",
    "tests.test_nn_keep_prob_inputs(neural_net_keep_prob_input)"
   ]
  },
  {
   "cell_type": "markdown",
   "metadata": {},
   "source": [
    "### 卷积和最大池化层\n",
    "\n",
    "卷积层级适合处理图片。对于此代码单元，你应该实现函数 `conv2d_maxpool` 以便应用卷积然后进行最大池化：\n",
    "\n",
    "* 使用 `conv_ksize`、`conv_num_outputs` 和 `x_tensor` 的形状创建权重（weight）和偏置（bias）。\n",
    "* 使用权重和 `conv_strides` 对 `x_tensor` 应用卷积。\n",
    "* 建议使用我们建议的间距（padding），当然也可以使用任何其他间距。\n",
    "* 添加偏置\n",
    "* 向卷积中添加非线性激活（nonlinear activation）\n",
    "* 使用 `pool_ksize` 和 `pool_strides` 应用最大池化\n",
    "\n",
    "**注意**：对于**此层**，**请勿使用** [TensorFlow Layers](https://www.tensorflow.org/api_docs/python/tf/layers) 或 [TensorFlow Layers (contrib)](https://www.tensorflow.org/api_guides/python/contrib.layers)，但是仍然可以使用 TensorFlow 的 [Neural Network](https://www.tensorflow.org/api_docs/python/tf/nn) 包。对于所有**其他层**，你依然可以使用快捷方法。\n"
   ]
  },
  {
   "cell_type": "code",
   "execution_count": 12,
   "metadata": {},
   "outputs": [
    {
     "name": "stdout",
     "output_type": "stream",
     "text": [
      "Tests Passed\n"
     ]
    }
   ],
   "source": [
    "def conv2d_maxpool(x_tensor, conv_num_outputs, conv_ksize, conv_strides, pool_ksize, pool_strides):\n",
    "    \"\"\"\n",
    "    Apply convolution then max pooling to x_tensor\n",
    "    :param x_tensor: TensorFlow Tensor\n",
    "    :param conv_num_outputs: Number of outputs for the convolutional layer\n",
    "    :param conv_ksize: kernal size 2-D Tuple for the convolutional layer\n",
    "    :param conv_strides: Stride 2-D Tuple for convolution\n",
    "    :param pool_ksize: kernal size 2-D Tuple for pool\n",
    "    :param pool_strides: Stride 2-D Tuple for pool\n",
    "    : return: A tensor that represents convolution and max pooling of x_tensor\n",
    "    \"\"\"\n",
    "    # TODO: Implement Function\n",
    "    #print('x_tensor=',x_tensor,'conv_num_outputs=', conv_num_outputs,'conv_ksize=', conv_ksize, \\\n",
    "          #'conv_strides=',conv_strides, 'pool_ksize=',pool_ksize, 'pool_strides=',pool_strides)\n",
    "    #print(x_tensor[3])#!!!!必须转换为int数据形式\n",
    "    #print(x_tensor.get_shape().as_list()[3])\n",
    "    #print(conv_ksize[0])\n",
    "    #F_W = tf.Variable(tf.truncated_normal((conv_ksize[0],conv_ksize[1],x_tensor.get_shape().as_list()[3], conv_num_outputs), stddev = 0.1))\n",
    "    F_W = tf.Variable(tf.truncated_normal((conv_ksize[0],conv_ksize[1],int(x_tensor.shape[3]),conv_num_outputs), stddev=0.05)) #(height, width, input_depth, output_depth)stddev是标准差\n",
    "    #print(1)\n",
    "    F_b = tf.Variable(tf.zeros(conv_num_outputs))#(output_depth,)\n",
    "    #print(1)\n",
    "    strides=[1, conv_strides[0],conv_strides[1], 1]#(batch_size, height, width, depth/input_channels)\n",
    "    x_tensor = tf.nn.conv2d(x_tensor, F_W, strides, padding='SAME')\n",
    "    x_tensor = x_tensor+ F_b\n",
    "    x_tensor = tf.nn.relu(x_tensor)\n",
    "    #print('x_ten=',x_tensor)\n",
    "    pool_ksize = [1,pool_ksize[0],pool_ksize[1],1] #(batch_size, height, width, depth)\n",
    "    pool_strides = [1,pool_strides[0],pool_strides[1],1] #(batch_size, height, width, depth)\n",
    "    return tf.nn.max_pool(x_tensor, pool_ksize, pool_strides, padding='SAME')\n",
    "    #return None \n",
    "\n",
    "\n",
    "\"\"\"\n",
    "DON'T MODIFY ANYTHING IN THIS CELL THAT IS BELOW THIS LINE\n",
    "\"\"\"\n",
    "tests.test_con_pool(conv2d_maxpool)"
   ]
  },
  {
   "cell_type": "markdown",
   "metadata": {},
   "source": [
    "### 扁平化层\n",
    "\n",
    "实现 `flatten` 函数，将 `x_tensor` 的维度从四维张量（4-D tensor）变成二维张量。输出应该是形状（*部分大小（Batch Size）*，*扁平化图片大小（Flattened Image Size）*）。快捷方法：对于此层，你可以使用 [TensorFlow Layers](https://www.tensorflow.org/api_docs/python/tf/layers) 或 [TensorFlow Layers (contrib)](https://www.tensorflow.org/api_guides/python/contrib.layers) 包中的类。如果你想要更大挑战，可以仅使用其他 TensorFlow 程序包。\n",
    "扁平化的原因是全连接层只能接收向量。所以要把四维变成二维的"
   ]
  },
  {
   "cell_type": "code",
   "execution_count": 21,
   "metadata": {},
   "outputs": [
    {
     "name": "stdout",
     "output_type": "stream",
     "text": [
      "Tests Passed\n"
     ]
    }
   ],
   "source": [
    "def flatten(x_tensor):\n",
    "    \"\"\"\n",
    "    Flatten x_tensor to (Batch Size, Flattened Image Size)\n",
    "    : x_tensor: A tensor of size (Batch Size, ...), where ... are the image dimensions.\n",
    "    : return: A tensor of size (Batch Size, Flattened Image Size).\n",
    "    \"\"\"\n",
    "    # TODO: Implement Function\n",
    "    #return tf.contrib.layers.flatten(x_tensor)\n",
    "    shape = x_tensor.get_shape().as_list() \n",
    "    #print(shape) #[None, 10, 30, 6]\n",
    "    #print(shape[1:])#[10, 30, 6]\n",
    "    dim = np.prod(shape[1:])\n",
    "    #print(dim)#1800\n",
    "    #print(tf.reshape(x_tensor,[-1,dim]).shape)#(?, 1800)\n",
    "    return tf.reshape(x_tensor,[-1,dim]) #-1代表任意大小的维度\n",
    "    \n",
    "\n",
    "\n",
    "\"\"\"\n",
    "DON'T MODIFY ANYTHING IN THIS CELL THAT IS BELOW THIS LINE\n",
    "\"\"\"\n",
    "tests.test_flatten(flatten)"
   ]
  },
  {
   "cell_type": "markdown",
   "metadata": {},
   "source": [
    "### 全连接层\n",
    "\n",
    "实现 `fully_conn` 函数，以向 `x_tensor` 应用完全连接的层级，形状为（*部分大小（Batch Size）*，*num_outputs*）。快捷方法：对于此层，你可以使用 [TensorFlow Layers](https://www.tensorflow.org/api_docs/python/tf/layers) 或 [TensorFlow Layers (contrib)](https://www.tensorflow.org/api_guides/python/contrib.layers) 包中的类。如果你想要更大挑战，可以仅使用其他 TensorFlow 程序包。"
   ]
  },
  {
   "cell_type": "code",
   "execution_count": 14,
   "metadata": {},
   "outputs": [
    {
     "name": "stdout",
     "output_type": "stream",
     "text": [
      "Tests Passed\n"
     ]
    }
   ],
   "source": [
    "def fully_conn(x_tensor, num_outputs):\n",
    "    \"\"\"\n",
    "    Apply a fully connected layer to x_tensor using weight and bias\n",
    "    : x_tensor: A 2-D tensor where the first dimension is batch size.\n",
    "    : num_outputs: The number of output that the new tensor should be.\n",
    "    : return: A 2-D tensor where the second dimension is num_outputs.\n",
    "    \"\"\"\n",
    "    # TODO: Implement Function\n",
    "    shape = x_tensor.get_shape().as_list()\n",
    "    #print(shape)\n",
    "    weight = tf.Variable(tf.truncated_normal((shape[1],num_outputs),stddev=0.05))#是shape[1]不是shape\n",
    "    biase = tf.Variable(tf.zeros(num_outputs))\n",
    "    x_tensor = tf.add(tf.matmul(x_tensor,weight),biase)\n",
    "    return tf.nn.relu(x_tensor)\n",
    "\n",
    "\"\"\"\n",
    "DON'T MODIFY ANYTHING IN THIS CELL THAT IS BELOW THIS LINE\n",
    "\"\"\"\n",
    "tests.test_fully_conn(fully_conn)"
   ]
  },
  {
   "cell_type": "markdown",
   "metadata": {},
   "source": [
    "### 输出层\n",
    "\n",
    "实现 `output` 函数，向 x_tensor 应用完全连接的层级，形状为（*部分大小（Batch Size）*，*num_outputs*）。快捷方法：对于此层，你可以使用 [TensorFlow Layers](https://www.tensorflow.org/api_docs/python/tf/layers) 或 [TensorFlow Layers (contrib)](https://www.tensorflow.org/api_guides/python/contrib.layers) 包中的类。如果你想要更大挑战，可以仅使用其他 TensorFlow 程序包。\n",
    "\n",
    "**注意**：该层级不应应用 Activation、softmax 或交叉熵（cross entropy）。"
   ]
  },
  {
   "cell_type": "code",
   "execution_count": 15,
   "metadata": {},
   "outputs": [
    {
     "name": "stdout",
     "output_type": "stream",
     "text": [
      "Tests Passed\n"
     ]
    }
   ],
   "source": [
    "def output(x_tensor, num_outputs):\n",
    "    \"\"\"\n",
    "    Apply a output layer to x_tensor using weight and bias\n",
    "    : x_tensor: A 2-D tensor where the first dimension is batch size.\n",
    "    : num_outputs: The number of output that the new tensor should be.\n",
    "    : return: A 2-D tensor where the second dimension is num_outputs.\n",
    "    \"\"\"\n",
    "    # TODO: Implement Function\n",
    "    shape = x_tensor.get_shape().as_list()\n",
    "    weight = tf.Variable(tf.truncated_normal((shape[1],num_outputs),stddev=0.05))\n",
    "    biase = tf.Variable(tf.zeros(num_outputs))\n",
    "    return tf.add(tf.matmul(x_tensor,weight),biase)\n",
    "\n",
    "\n",
    "\"\"\"\n",
    "DON'T MODIFY ANYTHING IN THIS CELL THAT IS BELOW THIS LINE\n",
    "\"\"\"\n",
    "tests.test_output(output)"
   ]
  },
  {
   "cell_type": "markdown",
   "metadata": {},
   "source": [
    "### 创建卷积模型\n",
    "\n",
    "实现函数 `conv_net`， 创建卷积神经网络模型。该函数传入一批图片 `x`，并输出对数（logits）。使用你在上方创建的层创建此模型：\n",
    "\n",
    "* 应用 1、2 或 3 个卷积和最大池化层（Convolution and Max Pool layers）\n",
    "* 应用一个扁平层（Flatten Layer）\n",
    "* 应用 1、2 或 3 个完全连接层（Fully Connected Layers）\n",
    "* 应用一个输出层（Output Layer）\n",
    "* 返回输出\n",
    "* 使用 `keep_prob` 向模型中的一个或多个层应用 [TensorFlow 的 Dropout](https://www.tensorflow.org/api_docs/python/tf/nn/dropout)"
   ]
  },
  {
   "cell_type": "code",
   "execution_count": 22,
   "metadata": {},
   "outputs": [
    {
     "name": "stdout",
     "output_type": "stream",
     "text": [
      "Neural Network Built!\n"
     ]
    }
   ],
   "source": [
    "def conv_net(x, keep_prob):\n",
    "    \"\"\"\n",
    "    Create a convolutional neural network model\n",
    "    : x: Placeholder tensor that holds image data.\n",
    "    : keep_prob: Placeholder tensor that hold dropout keep probability.\n",
    "    : return: Tensor that represents logits\n",
    "    \"\"\"\n",
    "    # TODO: Apply 1, 2, or 3 Convolution and Max Pool layers\n",
    "    #    Play around with different number of outputs, kernel size and stride\n",
    "    # Function Definition from Above:\n",
    "    #    conv2d_maxpool(x_tensor, conv_num_outputs, conv_ksize, conv_strides, pool_ksize, pool_strides)\n",
    "    #print(x)\n",
    "    x = conv2d_maxpool(x, 16, (2,2), (1,1), (2,2), (2,2))#16 is filter number filter size=2*2*3  32*32*3---32*32*16--16*16*16\n",
    "    x = conv2d_maxpool(x, 32, (2,2), (1,1), (2,2), (2,2))#16*16*32--8*8*32\n",
    "    x = conv2d_maxpool(x, 64, (2,2), (1,1), (2,2), (2,2))#8*8*64--4*4*64\n",
    "\n",
    "    # TODO: Apply a Flatten Layer\n",
    "    # Function Definition from Above:\n",
    "    #   flatten(x_tensor)\n",
    "    x = flatten(x)#(?,1024)\n",
    "\n",
    "    # TODO: Apply 1, 2, or 3 Fully Connected Layers\n",
    "    #    Play around with different number of outputs\n",
    "    # Function Definition from Above:\n",
    "    #   fully_conn(x_tensor, num_outputs)\n",
    "    x = fully_conn(x,512)   #1024/2\n",
    "    x = tf.nn.dropout(x, keep_prob)\n",
    "    x = fully_conn(x,256)   #1024/4\n",
    "    x = tf.nn.dropout(x, keep_prob)\n",
    "    x = fully_conn(x,128)   #1024/8\n",
    "    x = tf.nn.dropout(x, keep_prob)\n",
    "    # TODO: Apply an Output Layer\n",
    "    #    Set this to the number of classes\n",
    "    # Function Definition from Above:\n",
    "    #   output(x_tensor, num_outputs)\n",
    "    x = output(x, 10)\n",
    "    \n",
    "    # TODO: return output\n",
    "    return x\n",
    "\n",
    "\n",
    "\"\"\"\n",
    "DON'T MODIFY ANYTHING IN THIS CELL THAT IS BELOW THIS LINE\n",
    "\"\"\"\n",
    "\n",
    "##############################\n",
    "## Build the Neural Network ##\n",
    "##############################\n",
    "\n",
    "# Remove previous weights, bias, inputs, etc..\n",
    "tf.reset_default_graph()\n",
    "\n",
    "# Inputs\n",
    "x = neural_net_image_input((32, 32, 3))\n",
    "y = neural_net_label_input(10)\n",
    "keep_prob = neural_net_keep_prob_input()\n",
    "\n",
    "# Model\n",
    "logits = conv_net(x, keep_prob)\n",
    "\n",
    "# Name logits Tensor, so that is can be loaded from disk after training\n",
    "logits = tf.identity(logits, name='logits')\n",
    "\n",
    "# Loss and Optimizer\n",
    "cost = tf.reduce_mean(tf.nn.softmax_cross_entropy_with_logits(logits=logits, labels=y))\n",
    "optimizer = tf.train.AdamOptimizer().minimize(cost)\n",
    "\n",
    "# Accuracy\n",
    "correct_pred = tf.equal(tf.argmax(logits, 1), tf.argmax(y, 1))\n",
    "accuracy = tf.reduce_mean(tf.cast(correct_pred, tf.float32), name='accuracy')\n",
    "\n",
    "tests.test_conv_net(conv_net)"
   ]
  },
  {
   "cell_type": "markdown",
   "metadata": {},
   "source": [
    "## 训练神经网络\n",
    "\n",
    "### 单次优化\n",
    "\n",
    "实现函数 `train_neural_network` 以进行单次优化（single optimization）。该优化应该使用 `optimizer` 优化 `session`，其中 `feed_dict` 具有以下参数：\n",
    "\n",
    "* `x` 表示图片输入\n",
    "* `y` 表示标签\n",
    "* `keep_prob` 表示丢弃的保留率\n",
    "\n",
    "每个部分都会调用该函数，所以 `tf.global_variables_initializer()` 已经被调用。\n",
    "\n",
    "注意：不需要返回任何内容。该函数只是用来优化神经网络。\n"
   ]
  },
  {
   "cell_type": "code",
   "execution_count": 17,
   "metadata": {},
   "outputs": [
    {
     "name": "stdout",
     "output_type": "stream",
     "text": [
      "Tests Passed\n"
     ]
    }
   ],
   "source": [
    "def train_neural_network(session, optimizer, keep_probability, feature_batch, label_batch):\n",
    "    \"\"\"\n",
    "    Optimize the session on a batch of images and labels\n",
    "    : session: Current TensorFlow session\n",
    "    : optimizer: TensorFlow optimizer function\n",
    "    : keep_probability: keep probability\n",
    "    : feature_batch: Batch of Numpy image data\n",
    "    : label_batch: Batch of Numpy label data\n",
    "    \"\"\"\n",
    "    # TODO: Implement Function\n",
    "    session.run(optimizer, feed_dict={x:feature_batch,y:label_batch,keep_prob:keep_probability})\n",
    "\n",
    "\n",
    "\"\"\"\n",
    "DON'T MODIFY ANYTHING IN THIS CELL THAT IS BELOW THIS LINE\n",
    "\"\"\"\n",
    "tests.test_train_nn(train_neural_network)"
   ]
  },
  {
   "cell_type": "markdown",
   "metadata": {},
   "source": [
    "### 显示数据\n",
    "\n",
    "实现函数 `print_stats` 以输出损失和验证准确率。使用全局变量 `valid_features` 和 `valid_labels` 计算验证准确率。使用保留率 `1.0` 计算损失和验证准确率（loss and validation accuracy）。\n"
   ]
  },
  {
   "cell_type": "code",
   "execution_count": 30,
   "metadata": {
    "collapsed": true
   },
   "outputs": [],
   "source": [
    "def print_stats(session, feature_batch, label_batch, cost, accuracy):\n",
    "    \"\"\"\n",
    "    Print information about loss and validation accuracy\n",
    "    : session: Current TensorFlow session\n",
    "    : feature_batch: Batch of Numpy image data\n",
    "    : label_batch: Batch of Numpy label data\n",
    "    : cost: TensorFlow cost function\n",
    "    : accuracy: TensorFlow accuracy function\n",
    "    \"\"\"\n",
    "    # TODO: Implement Function\n",
    "    #print('Loss: {:>10.4f} Validation Accuracy: {:.6f}'.format(loss, valid_acc))\n",
    "    loss_accuracy = session.run(cost, feed_dict = {x:feature_batch,y:label_batch, keep_prob:1})\n",
    "    valid_accuracy = session.run(accuracy, feed_dict={x:feature_batch, y:label_batch, keep_prob:1})\n",
    "    print(\"cost = {}, accuracy = {}\".format(loss_accuracy, valid_accuracy))"
   ]
  },
  {
   "cell_type": "markdown",
   "metadata": {},
   "source": [
    "### 超参数\n",
    "\n",
    "调试以下超参数：\n",
    "* 设置 `epochs` 表示神经网络停止学习或开始过拟合的迭代次数\n",
    "* 设置 `batch_size`，表示机器内存允许的部分最大体积。大部分人设为以下常见内存大小：\n",
    "\n",
    " * 64\n",
    " * 128\n",
    " * 256\n",
    " * ...\n",
    "* 设置 `keep_probability` 表示使用丢弃时保留节点的概率"
   ]
  },
  {
   "cell_type": "code",
   "execution_count": 31,
   "metadata": {
    "collapsed": true
   },
   "outputs": [],
   "source": [
    "# TODO: Tune Parameters\n",
    "epochs = 50\n",
    "batch_size = 256\n",
    "keep_probability = 0.8"
   ]
  },
  {
   "cell_type": "markdown",
   "metadata": {},
   "source": [
    "### 在单个 CIFAR-10 部分上训练\n",
    "\n",
    "我们先用单个部分，而不是用所有的 CIFAR-10 批次训练神经网络。这样可以节省时间，并对模型进行迭代，以提高准确率。最终验证准确率达到 50% 或以上之后，在下一部分对所有数据运行模型。\n"
   ]
  },
  {
   "cell_type": "code",
   "execution_count": 32,
   "metadata": {},
   "outputs": [
    {
     "name": "stdout",
     "output_type": "stream",
     "text": [
      "Checking the Training on a Single Batch...\n",
      "Epoch  1, CIFAR-10 Batch 1:  cost = 2.229599952697754, accuracy = 0.15000000596046448\n",
      "Epoch  2, CIFAR-10 Batch 1:  cost = 2.201369285583496, accuracy = 0.25\n",
      "Epoch  3, CIFAR-10 Batch 1:  cost = 2.163128614425659, accuracy = 0.25\n",
      "Epoch  4, CIFAR-10 Batch 1:  cost = 1.996302604675293, accuracy = 0.3499999940395355\n",
      "Epoch  5, CIFAR-10 Batch 1:  cost = 1.9093971252441406, accuracy = 0.375\n",
      "Epoch  6, CIFAR-10 Batch 1:  cost = 1.847572684288025, accuracy = 0.42500001192092896\n",
      "Epoch  7, CIFAR-10 Batch 1:  cost = 1.7425029277801514, accuracy = 0.44999998807907104\n",
      "Epoch  8, CIFAR-10 Batch 1:  cost = 1.5837442874908447, accuracy = 0.4749999940395355\n",
      "Epoch  9, CIFAR-10 Batch 1:  cost = 1.4986145496368408, accuracy = 0.4749999940395355\n",
      "Epoch 10, CIFAR-10 Batch 1:  cost = 1.3750859498977661, accuracy = 0.5\n",
      "Epoch 11, CIFAR-10 Batch 1:  cost = 1.293649435043335, accuracy = 0.5249999761581421\n",
      "Epoch 12, CIFAR-10 Batch 1:  cost = 1.231410026550293, accuracy = 0.625\n",
      "Epoch 13, CIFAR-10 Batch 1:  cost = 1.1602474451065063, accuracy = 0.6000000238418579\n",
      "Epoch 14, CIFAR-10 Batch 1:  cost = 1.0217286348342896, accuracy = 0.7250000238418579\n",
      "Epoch 15, CIFAR-10 Batch 1:  cost = 0.9509370923042297, accuracy = 0.7250000238418579\n",
      "Epoch 16, CIFAR-10 Batch 1:  cost = 0.8522396087646484, accuracy = 0.7749999761581421\n",
      "Epoch 17, CIFAR-10 Batch 1:  cost = 0.8645197749137878, accuracy = 0.75\n",
      "Epoch 18, CIFAR-10 Batch 1:  cost = 0.7339561581611633, accuracy = 0.7749999761581421\n",
      "Epoch 19, CIFAR-10 Batch 1:  cost = 0.7275127172470093, accuracy = 0.7250000238418579\n",
      "Epoch 20, CIFAR-10 Batch 1:  cost = 0.635463297367096, accuracy = 0.8500000238418579\n",
      "Epoch 21, CIFAR-10 Batch 1:  cost = 0.5842090845108032, accuracy = 0.824999988079071\n",
      "Epoch 22, CIFAR-10 Batch 1:  cost = 0.525894045829773, accuracy = 0.824999988079071\n",
      "Epoch 23, CIFAR-10 Batch 1:  cost = 0.46734490990638733, accuracy = 0.8999999761581421\n",
      "Epoch 24, CIFAR-10 Batch 1:  cost = 0.4234473705291748, accuracy = 0.875\n",
      "Epoch 25, CIFAR-10 Batch 1:  cost = 0.41305646300315857, accuracy = 0.925000011920929\n",
      "Epoch 26, CIFAR-10 Batch 1:  cost = 0.398904412984848, accuracy = 0.8999999761581421\n",
      "Epoch 27, CIFAR-10 Batch 1:  cost = 0.3157653212547302, accuracy = 0.925000011920929\n",
      "Epoch 28, CIFAR-10 Batch 1:  cost = 0.30519574880599976, accuracy = 0.925000011920929\n",
      "Epoch 29, CIFAR-10 Batch 1:  cost = 0.2492937594652176, accuracy = 0.925000011920929\n",
      "Epoch 30, CIFAR-10 Batch 1:  cost = 0.23903977870941162, accuracy = 0.925000011920929\n",
      "Epoch 31, CIFAR-10 Batch 1:  cost = 0.2155306339263916, accuracy = 0.925000011920929\n",
      "Epoch 32, CIFAR-10 Batch 1:  cost = 0.17967039346694946, accuracy = 0.949999988079071\n",
      "Epoch 33, CIFAR-10 Batch 1:  cost = 0.18424998223781586, accuracy = 0.9750000238418579\n",
      "Epoch 34, CIFAR-10 Batch 1:  cost = 0.16716368496418, accuracy = 0.9750000238418579\n",
      "Epoch 35, CIFAR-10 Batch 1:  cost = 0.14717334508895874, accuracy = 0.9750000238418579\n",
      "Epoch 36, CIFAR-10 Batch 1:  cost = 0.15720756351947784, accuracy = 0.9750000238418579\n",
      "Epoch 37, CIFAR-10 Batch 1:  cost = 0.1645214557647705, accuracy = 0.9750000238418579\n",
      "Epoch 38, CIFAR-10 Batch 1:  cost = 0.10734881460666656, accuracy = 1.0\n",
      "Epoch 39, CIFAR-10 Batch 1:  cost = 0.12882199883460999, accuracy = 1.0\n",
      "Epoch 40, CIFAR-10 Batch 1:  cost = 0.1329379379749298, accuracy = 0.9750000238418579\n",
      "Epoch 41, CIFAR-10 Batch 1:  cost = 0.11386950314044952, accuracy = 0.9750000238418579\n",
      "Epoch 42, CIFAR-10 Batch 1:  cost = 0.09877501428127289, accuracy = 0.9750000238418579\n",
      "Epoch 43, CIFAR-10 Batch 1:  cost = 0.06302502006292343, accuracy = 1.0\n",
      "Epoch 44, CIFAR-10 Batch 1:  cost = 0.05183883756399155, accuracy = 1.0\n",
      "Epoch 45, CIFAR-10 Batch 1:  cost = 0.04930984601378441, accuracy = 1.0\n",
      "Epoch 46, CIFAR-10 Batch 1:  cost = 0.042112283408641815, accuracy = 1.0\n",
      "Epoch 47, CIFAR-10 Batch 1:  cost = 0.03767206519842148, accuracy = 1.0\n",
      "Epoch 48, CIFAR-10 Batch 1:  cost = 0.03410564363002777, accuracy = 1.0\n",
      "Epoch 49, CIFAR-10 Batch 1:  cost = 0.025816310197114944, accuracy = 1.0\n",
      "Epoch 50, CIFAR-10 Batch 1:  cost = 0.018840249627828598, accuracy = 1.0\n"
     ]
    }
   ],
   "source": [
    "\"\"\"\n",
    "DON'T MODIFY ANYTHING IN THIS CELL\n",
    "\"\"\"\n",
    "print('Checking the Training on a Single Batch...')\n",
    "with tf.Session() as sess:\n",
    "    # Initializing the variables\n",
    "    sess.run(tf.global_variables_initializer())\n",
    "    \n",
    "    # Training cycle\n",
    "    for epoch in range(epochs):\n",
    "        batch_i = 1\n",
    "        for batch_features, batch_labels in helper.load_preprocess_training_batch(batch_i, batch_size):\n",
    "            train_neural_network(sess, optimizer, keep_probability, batch_features, batch_labels)\n",
    "        print('Epoch {:>2}, CIFAR-10 Batch {}:  '.format(epoch + 1, batch_i), end='')\n",
    "        print_stats(sess, batch_features, batch_labels, cost, accuracy)"
   ]
  },
  {
   "cell_type": "markdown",
   "metadata": {},
   "source": [
    "### 完全训练模型\n",
    "\n",
    "现在，单个 CIFAR-10 部分的准确率已经不错了，试试所有五个部分吧。"
   ]
  },
  {
   "cell_type": "code",
   "execution_count": 33,
   "metadata": {},
   "outputs": [
    {
     "name": "stdout",
     "output_type": "stream",
     "text": [
      "Training...\n",
      "Epoch  1, CIFAR-10 Batch 1:  cost = 2.2193405628204346, accuracy = 0.15000000596046448\n",
      "Epoch  1, CIFAR-10 Batch 2:  cost = 2.110309600830078, accuracy = 0.22499999403953552\n",
      "Epoch  1, CIFAR-10 Batch 3:  cost = 1.852332353591919, accuracy = 0.20000000298023224\n",
      "Epoch  1, CIFAR-10 Batch 4:  cost = 1.8522506952285767, accuracy = 0.32499998807907104\n",
      "Epoch  1, CIFAR-10 Batch 5:  cost = 1.7997630834579468, accuracy = 0.2750000059604645\n",
      "Epoch  2, CIFAR-10 Batch 1:  cost = 2.0107741355895996, accuracy = 0.3499999940395355\n",
      "Epoch  2, CIFAR-10 Batch 2:  cost = 1.685808777809143, accuracy = 0.5\n",
      "Epoch  2, CIFAR-10 Batch 3:  cost = 1.4424712657928467, accuracy = 0.3499999940395355\n",
      "Epoch  2, CIFAR-10 Batch 4:  cost = 1.5143333673477173, accuracy = 0.44999998807907104\n",
      "Epoch  2, CIFAR-10 Batch 5:  cost = 1.5777629613876343, accuracy = 0.375\n",
      "Epoch  3, CIFAR-10 Batch 1:  cost = 1.843928575515747, accuracy = 0.3499999940395355\n",
      "Epoch  3, CIFAR-10 Batch 2:  cost = 1.388453483581543, accuracy = 0.550000011920929\n",
      "Epoch  3, CIFAR-10 Batch 3:  cost = 1.1575261354446411, accuracy = 0.574999988079071\n",
      "Epoch  3, CIFAR-10 Batch 4:  cost = 1.3117588758468628, accuracy = 0.550000011920929\n",
      "Epoch  3, CIFAR-10 Batch 5:  cost = 1.3710734844207764, accuracy = 0.4749999940395355\n",
      "Epoch  4, CIFAR-10 Batch 1:  cost = 1.5053555965423584, accuracy = 0.5249999761581421\n",
      "Epoch  4, CIFAR-10 Batch 2:  cost = 1.2261850833892822, accuracy = 0.5249999761581421\n",
      "Epoch  4, CIFAR-10 Batch 3:  cost = 1.01488196849823, accuracy = 0.6499999761581421\n",
      "Epoch  4, CIFAR-10 Batch 4:  cost = 1.1715490818023682, accuracy = 0.625\n",
      "Epoch  4, CIFAR-10 Batch 5:  cost = 1.210778832435608, accuracy = 0.550000011920929\n",
      "Epoch  5, CIFAR-10 Batch 1:  cost = 1.38814115524292, accuracy = 0.5\n",
      "Epoch  5, CIFAR-10 Batch 2:  cost = 1.1114784479141235, accuracy = 0.5249999761581421\n",
      "Epoch  5, CIFAR-10 Batch 3:  cost = 0.8832637667655945, accuracy = 0.6499999761581421\n",
      "Epoch  5, CIFAR-10 Batch 4:  cost = 1.0239036083221436, accuracy = 0.625\n",
      "Epoch  5, CIFAR-10 Batch 5:  cost = 1.0358459949493408, accuracy = 0.625\n",
      "Epoch  6, CIFAR-10 Batch 1:  cost = 1.1516730785369873, accuracy = 0.6000000238418579\n",
      "Epoch  6, CIFAR-10 Batch 2:  cost = 0.9796764254570007, accuracy = 0.625\n",
      "Epoch  6, CIFAR-10 Batch 3:  cost = 0.8167303204536438, accuracy = 0.675000011920929\n",
      "Epoch  6, CIFAR-10 Batch 4:  cost = 0.9182702898979187, accuracy = 0.675000011920929\n",
      "Epoch  6, CIFAR-10 Batch 5:  cost = 0.928254246711731, accuracy = 0.6499999761581421\n",
      "Epoch  7, CIFAR-10 Batch 1:  cost = 1.067406415939331, accuracy = 0.625\n",
      "Epoch  7, CIFAR-10 Batch 2:  cost = 0.8614485859870911, accuracy = 0.6499999761581421\n",
      "Epoch  7, CIFAR-10 Batch 3:  cost = 0.6641891598701477, accuracy = 0.7250000238418579\n",
      "Epoch  7, CIFAR-10 Batch 4:  cost = 0.7998368144035339, accuracy = 0.7749999761581421\n",
      "Epoch  7, CIFAR-10 Batch 5:  cost = 0.786083996295929, accuracy = 0.675000011920929\n",
      "Epoch  8, CIFAR-10 Batch 1:  cost = 0.8658691644668579, accuracy = 0.699999988079071\n",
      "Epoch  8, CIFAR-10 Batch 2:  cost = 0.7297685146331787, accuracy = 0.7250000238418579\n",
      "Epoch  8, CIFAR-10 Batch 3:  cost = 0.5619207620620728, accuracy = 0.7749999761581421\n",
      "Epoch  8, CIFAR-10 Batch 4:  cost = 0.7202742099761963, accuracy = 0.7749999761581421\n",
      "Epoch  8, CIFAR-10 Batch 5:  cost = 0.6419311165809631, accuracy = 0.824999988079071\n",
      "Epoch  9, CIFAR-10 Batch 1:  cost = 0.7251856327056885, accuracy = 0.7749999761581421\n",
      "Epoch  9, CIFAR-10 Batch 2:  cost = 0.6617803573608398, accuracy = 0.75\n",
      "Epoch  9, CIFAR-10 Batch 3:  cost = 0.45986708998680115, accuracy = 0.824999988079071\n",
      "Epoch  9, CIFAR-10 Batch 4:  cost = 0.6532559394836426, accuracy = 0.800000011920929\n",
      "Epoch  9, CIFAR-10 Batch 5:  cost = 0.5618246793746948, accuracy = 0.8500000238418579\n",
      "Epoch 10, CIFAR-10 Batch 1:  cost = 0.673379123210907, accuracy = 0.824999988079071\n",
      "Epoch 10, CIFAR-10 Batch 2:  cost = 0.6000720858573914, accuracy = 0.800000011920929\n",
      "Epoch 10, CIFAR-10 Batch 3:  cost = 0.41120344400405884, accuracy = 0.8999999761581421\n",
      "Epoch 10, CIFAR-10 Batch 4:  cost = 0.5334411859512329, accuracy = 0.875\n",
      "Epoch 10, CIFAR-10 Batch 5:  cost = 0.4721020758152008, accuracy = 0.875\n",
      "Epoch 11, CIFAR-10 Batch 1:  cost = 0.6038358211517334, accuracy = 0.824999988079071\n",
      "Epoch 11, CIFAR-10 Batch 2:  cost = 0.5061204433441162, accuracy = 0.800000011920929\n",
      "Epoch 11, CIFAR-10 Batch 3:  cost = 0.3188806176185608, accuracy = 0.949999988079071\n",
      "Epoch 11, CIFAR-10 Batch 4:  cost = 0.46026283502578735, accuracy = 0.925000011920929\n",
      "Epoch 11, CIFAR-10 Batch 5:  cost = 0.38524970412254333, accuracy = 0.8999999761581421\n",
      "Epoch 12, CIFAR-10 Batch 1:  cost = 0.5167211294174194, accuracy = 0.8500000238418579\n",
      "Epoch 12, CIFAR-10 Batch 2:  cost = 0.4446375370025635, accuracy = 0.824999988079071\n",
      "Epoch 12, CIFAR-10 Batch 3:  cost = 0.2998668849468231, accuracy = 0.925000011920929\n",
      "Epoch 12, CIFAR-10 Batch 4:  cost = 0.3820912539958954, accuracy = 0.875\n",
      "Epoch 12, CIFAR-10 Batch 5:  cost = 0.3065565228462219, accuracy = 0.925000011920929\n",
      "Epoch 13, CIFAR-10 Batch 1:  cost = 0.4593948423862457, accuracy = 0.8500000238418579\n",
      "Epoch 13, CIFAR-10 Batch 2:  cost = 0.3637503981590271, accuracy = 0.8500000238418579\n",
      "Epoch 13, CIFAR-10 Batch 3:  cost = 0.27729907631874084, accuracy = 0.949999988079071\n",
      "Epoch 13, CIFAR-10 Batch 4:  cost = 0.31022167205810547, accuracy = 0.949999988079071\n",
      "Epoch 13, CIFAR-10 Batch 5:  cost = 0.22443342208862305, accuracy = 1.0\n",
      "Epoch 14, CIFAR-10 Batch 1:  cost = 0.3898134231567383, accuracy = 0.875\n",
      "Epoch 14, CIFAR-10 Batch 2:  cost = 0.2958180606365204, accuracy = 0.8999999761581421\n",
      "Epoch 14, CIFAR-10 Batch 3:  cost = 0.24322140216827393, accuracy = 0.949999988079071\n",
      "Epoch 14, CIFAR-10 Batch 4:  cost = 0.24790306389331818, accuracy = 0.9750000238418579\n",
      "Epoch 14, CIFAR-10 Batch 5:  cost = 0.19269074499607086, accuracy = 0.9750000238418579\n",
      "Epoch 15, CIFAR-10 Batch 1:  cost = 0.34910812973976135, accuracy = 0.925000011920929\n",
      "Epoch 15, CIFAR-10 Batch 2:  cost = 0.25891900062561035, accuracy = 0.925000011920929\n",
      "Epoch 15, CIFAR-10 Batch 3:  cost = 0.20812097191810608, accuracy = 0.9750000238418579\n",
      "Epoch 15, CIFAR-10 Batch 4:  cost = 0.2174796164035797, accuracy = 0.9750000238418579\n",
      "Epoch 15, CIFAR-10 Batch 5:  cost = 0.17997132241725922, accuracy = 1.0\n",
      "Epoch 16, CIFAR-10 Batch 1:  cost = 0.28594619035720825, accuracy = 0.949999988079071\n",
      "Epoch 16, CIFAR-10 Batch 2:  cost = 0.20128388702869415, accuracy = 0.925000011920929\n",
      "Epoch 16, CIFAR-10 Batch 3:  cost = 0.2366373986005783, accuracy = 0.925000011920929\n",
      "Epoch 16, CIFAR-10 Batch 4:  cost = 0.19834396243095398, accuracy = 1.0\n",
      "Epoch 16, CIFAR-10 Batch 5:  cost = 0.1492966115474701, accuracy = 1.0\n",
      "Epoch 17, CIFAR-10 Batch 1:  cost = 0.28347915410995483, accuracy = 0.949999988079071\n",
      "Epoch 17, CIFAR-10 Batch 2:  cost = 0.20627646148204803, accuracy = 0.925000011920929\n",
      "Epoch 17, CIFAR-10 Batch 3:  cost = 0.16159337759017944, accuracy = 0.949999988079071\n",
      "Epoch 17, CIFAR-10 Batch 4:  cost = 0.16371743381023407, accuracy = 0.9750000238418579\n",
      "Epoch 17, CIFAR-10 Batch 5:  cost = 0.11326222121715546, accuracy = 1.0\n",
      "Epoch 18, CIFAR-10 Batch 1:  cost = 0.22158196568489075, accuracy = 0.949999988079071\n",
      "Epoch 18, CIFAR-10 Batch 2:  cost = 0.1777648627758026, accuracy = 0.949999988079071\n",
      "Epoch 18, CIFAR-10 Batch 3:  cost = 0.14332087337970734, accuracy = 0.949999988079071\n",
      "Epoch 18, CIFAR-10 Batch 4:  cost = 0.13224200904369354, accuracy = 1.0\n",
      "Epoch 18, CIFAR-10 Batch 5:  cost = 0.08964184671640396, accuracy = 1.0\n",
      "Epoch 19, CIFAR-10 Batch 1:  cost = 0.22027210891246796, accuracy = 0.9750000238418579\n",
      "Epoch 19, CIFAR-10 Batch 2:  cost = 0.15932884812355042, accuracy = 0.949999988079071\n",
      "Epoch 19, CIFAR-10 Batch 3:  cost = 0.11843647807836533, accuracy = 0.9750000238418579\n",
      "Epoch 19, CIFAR-10 Batch 4:  cost = 0.10646326839923859, accuracy = 1.0\n",
      "Epoch 19, CIFAR-10 Batch 5:  cost = 0.09756000339984894, accuracy = 1.0\n",
      "Epoch 20, CIFAR-10 Batch 1:  cost = 0.13943928480148315, accuracy = 0.9750000238418579\n",
      "Epoch 20, CIFAR-10 Batch 2:  cost = 0.10437794029712677, accuracy = 1.0\n",
      "Epoch 20, CIFAR-10 Batch 3:  cost = 0.10287810862064362, accuracy = 0.9750000238418579\n",
      "Epoch 20, CIFAR-10 Batch 4:  cost = 0.10243789851665497, accuracy = 1.0\n"
     ]
    },
    {
     "name": "stdout",
     "output_type": "stream",
     "text": [
      "Epoch 20, CIFAR-10 Batch 5:  cost = 0.07716456055641174, accuracy = 1.0\n",
      "Epoch 21, CIFAR-10 Batch 1:  cost = 0.11577286571264267, accuracy = 1.0\n",
      "Epoch 21, CIFAR-10 Batch 2:  cost = 0.08233058452606201, accuracy = 1.0\n",
      "Epoch 21, CIFAR-10 Batch 3:  cost = 0.08734264224767685, accuracy = 1.0\n",
      "Epoch 21, CIFAR-10 Batch 4:  cost = 0.09786953032016754, accuracy = 1.0\n",
      "Epoch 21, CIFAR-10 Batch 5:  cost = 0.052335210144519806, accuracy = 1.0\n",
      "Epoch 22, CIFAR-10 Batch 1:  cost = 0.11150898784399033, accuracy = 1.0\n",
      "Epoch 22, CIFAR-10 Batch 2:  cost = 0.07929980754852295, accuracy = 1.0\n",
      "Epoch 22, CIFAR-10 Batch 3:  cost = 0.08976862579584122, accuracy = 1.0\n",
      "Epoch 22, CIFAR-10 Batch 4:  cost = 0.09566324949264526, accuracy = 1.0\n",
      "Epoch 22, CIFAR-10 Batch 5:  cost = 0.041961200535297394, accuracy = 1.0\n",
      "Epoch 23, CIFAR-10 Batch 1:  cost = 0.09585598111152649, accuracy = 1.0\n",
      "Epoch 23, CIFAR-10 Batch 2:  cost = 0.07812205702066422, accuracy = 1.0\n",
      "Epoch 23, CIFAR-10 Batch 3:  cost = 0.07128524780273438, accuracy = 1.0\n",
      "Epoch 23, CIFAR-10 Batch 4:  cost = 0.0863478034734726, accuracy = 1.0\n",
      "Epoch 23, CIFAR-10 Batch 5:  cost = 0.044203899800777435, accuracy = 1.0\n",
      "Epoch 24, CIFAR-10 Batch 1:  cost = 0.08291115611791611, accuracy = 1.0\n",
      "Epoch 24, CIFAR-10 Batch 2:  cost = 0.07642028480768204, accuracy = 1.0\n",
      "Epoch 24, CIFAR-10 Batch 3:  cost = 0.06472903490066528, accuracy = 1.0\n",
      "Epoch 24, CIFAR-10 Batch 4:  cost = 0.06164436414837837, accuracy = 1.0\n",
      "Epoch 24, CIFAR-10 Batch 5:  cost = 0.05176428705453873, accuracy = 1.0\n",
      "Epoch 25, CIFAR-10 Batch 1:  cost = 0.07189850509166718, accuracy = 1.0\n",
      "Epoch 25, CIFAR-10 Batch 2:  cost = 0.06672528386116028, accuracy = 1.0\n",
      "Epoch 25, CIFAR-10 Batch 3:  cost = 0.05484393984079361, accuracy = 1.0\n",
      "Epoch 25, CIFAR-10 Batch 4:  cost = 0.06479426473379135, accuracy = 1.0\n",
      "Epoch 25, CIFAR-10 Batch 5:  cost = 0.036304574459791183, accuracy = 1.0\n",
      "Epoch 26, CIFAR-10 Batch 1:  cost = 0.059637926518917084, accuracy = 1.0\n",
      "Epoch 26, CIFAR-10 Batch 2:  cost = 0.03717189282178879, accuracy = 1.0\n",
      "Epoch 26, CIFAR-10 Batch 3:  cost = 0.05534794181585312, accuracy = 1.0\n",
      "Epoch 26, CIFAR-10 Batch 4:  cost = 0.03857605904340744, accuracy = 1.0\n",
      "Epoch 26, CIFAR-10 Batch 5:  cost = 0.037036407738924026, accuracy = 1.0\n",
      "Epoch 27, CIFAR-10 Batch 1:  cost = 0.063404381275177, accuracy = 1.0\n",
      "Epoch 27, CIFAR-10 Batch 2:  cost = 0.037960659712553024, accuracy = 1.0\n",
      "Epoch 27, CIFAR-10 Batch 3:  cost = 0.037762660533189774, accuracy = 1.0\n",
      "Epoch 27, CIFAR-10 Batch 4:  cost = 0.033979494124650955, accuracy = 1.0\n",
      "Epoch 27, CIFAR-10 Batch 5:  cost = 0.03381437063217163, accuracy = 1.0\n",
      "Epoch 28, CIFAR-10 Batch 1:  cost = 0.05550091341137886, accuracy = 1.0\n",
      "Epoch 28, CIFAR-10 Batch 2:  cost = 0.04370390623807907, accuracy = 1.0\n",
      "Epoch 28, CIFAR-10 Batch 3:  cost = 0.039676327258348465, accuracy = 1.0\n",
      "Epoch 28, CIFAR-10 Batch 4:  cost = 0.045886773616075516, accuracy = 1.0\n",
      "Epoch 28, CIFAR-10 Batch 5:  cost = 0.019512806087732315, accuracy = 1.0\n",
      "Epoch 29, CIFAR-10 Batch 1:  cost = 0.046962082386016846, accuracy = 1.0\n",
      "Epoch 29, CIFAR-10 Batch 2:  cost = 0.04327324032783508, accuracy = 1.0\n",
      "Epoch 29, CIFAR-10 Batch 3:  cost = 0.02877461537718773, accuracy = 1.0\n",
      "Epoch 29, CIFAR-10 Batch 4:  cost = 0.035755522549152374, accuracy = 1.0\n",
      "Epoch 29, CIFAR-10 Batch 5:  cost = 0.01726990006864071, accuracy = 1.0\n",
      "Epoch 30, CIFAR-10 Batch 1:  cost = 0.04533347859978676, accuracy = 1.0\n",
      "Epoch 30, CIFAR-10 Batch 2:  cost = 0.02601916715502739, accuracy = 1.0\n",
      "Epoch 30, CIFAR-10 Batch 3:  cost = 0.03703128546476364, accuracy = 1.0\n",
      "Epoch 30, CIFAR-10 Batch 4:  cost = 0.037362974137067795, accuracy = 1.0\n",
      "Epoch 30, CIFAR-10 Batch 5:  cost = 0.015923231840133667, accuracy = 1.0\n",
      "Epoch 31, CIFAR-10 Batch 1:  cost = 0.035220980644226074, accuracy = 1.0\n",
      "Epoch 31, CIFAR-10 Batch 2:  cost = 0.04190719872713089, accuracy = 1.0\n",
      "Epoch 31, CIFAR-10 Batch 3:  cost = 0.02710452675819397, accuracy = 1.0\n",
      "Epoch 31, CIFAR-10 Batch 4:  cost = 0.025260847061872482, accuracy = 1.0\n",
      "Epoch 31, CIFAR-10 Batch 5:  cost = 0.025609072297811508, accuracy = 1.0\n",
      "Epoch 32, CIFAR-10 Batch 1:  cost = 0.0351649634540081, accuracy = 1.0\n",
      "Epoch 32, CIFAR-10 Batch 2:  cost = 0.015101740136742592, accuracy = 1.0\n",
      "Epoch 32, CIFAR-10 Batch 3:  cost = 0.025646572932600975, accuracy = 1.0\n",
      "Epoch 32, CIFAR-10 Batch 4:  cost = 0.01452974695712328, accuracy = 1.0\n",
      "Epoch 32, CIFAR-10 Batch 5:  cost = 0.013601583428680897, accuracy = 1.0\n",
      "Epoch 33, CIFAR-10 Batch 1:  cost = 0.035301804542541504, accuracy = 1.0\n",
      "Epoch 33, CIFAR-10 Batch 2:  cost = 0.017463527619838715, accuracy = 1.0\n",
      "Epoch 33, CIFAR-10 Batch 3:  cost = 0.019228842109441757, accuracy = 1.0\n",
      "Epoch 33, CIFAR-10 Batch 4:  cost = 0.01855197176337242, accuracy = 1.0\n",
      "Epoch 33, CIFAR-10 Batch 5:  cost = 0.007603126112371683, accuracy = 1.0\n",
      "Epoch 34, CIFAR-10 Batch 1:  cost = 0.07276267558336258, accuracy = 0.9750000238418579\n",
      "Epoch 34, CIFAR-10 Batch 2:  cost = 0.027855318039655685, accuracy = 1.0\n",
      "Epoch 34, CIFAR-10 Batch 3:  cost = 0.016122857108712196, accuracy = 1.0\n",
      "Epoch 34, CIFAR-10 Batch 4:  cost = 0.015889588743448257, accuracy = 1.0\n",
      "Epoch 34, CIFAR-10 Batch 5:  cost = 0.006759988609701395, accuracy = 1.0\n",
      "Epoch 35, CIFAR-10 Batch 1:  cost = 0.04233426973223686, accuracy = 1.0\n",
      "Epoch 35, CIFAR-10 Batch 2:  cost = 0.042750801891088486, accuracy = 1.0\n",
      "Epoch 35, CIFAR-10 Batch 3:  cost = 0.02953542210161686, accuracy = 1.0\n",
      "Epoch 35, CIFAR-10 Batch 4:  cost = 0.023272119462490082, accuracy = 1.0\n",
      "Epoch 35, CIFAR-10 Batch 5:  cost = 0.006227248813956976, accuracy = 1.0\n",
      "Epoch 36, CIFAR-10 Batch 1:  cost = 0.027130812406539917, accuracy = 1.0\n",
      "Epoch 36, CIFAR-10 Batch 2:  cost = 0.028776932507753372, accuracy = 1.0\n",
      "Epoch 36, CIFAR-10 Batch 3:  cost = 0.015695102512836456, accuracy = 1.0\n",
      "Epoch 36, CIFAR-10 Batch 4:  cost = 0.015332743525505066, accuracy = 1.0\n",
      "Epoch 36, CIFAR-10 Batch 5:  cost = 0.004642418585717678, accuracy = 1.0\n",
      "Epoch 37, CIFAR-10 Batch 1:  cost = 0.023089900612831116, accuracy = 1.0\n",
      "Epoch 37, CIFAR-10 Batch 2:  cost = 0.05148111656308174, accuracy = 0.9750000238418579\n",
      "Epoch 37, CIFAR-10 Batch 3:  cost = 0.010203057900071144, accuracy = 1.0\n",
      "Epoch 37, CIFAR-10 Batch 4:  cost = 0.016287174075841904, accuracy = 1.0\n",
      "Epoch 37, CIFAR-10 Batch 5:  cost = 0.004897041246294975, accuracy = 1.0\n",
      "Epoch 38, CIFAR-10 Batch 1:  cost = 0.011169388890266418, accuracy = 1.0\n",
      "Epoch 38, CIFAR-10 Batch 2:  cost = 0.011428543366491795, accuracy = 1.0\n",
      "Epoch 38, CIFAR-10 Batch 3:  cost = 0.011444536969065666, accuracy = 1.0\n",
      "Epoch 38, CIFAR-10 Batch 4:  cost = 0.010784287005662918, accuracy = 1.0\n",
      "Epoch 38, CIFAR-10 Batch 5:  cost = 0.007376253604888916, accuracy = 1.0\n",
      "Epoch 39, CIFAR-10 Batch 1:  cost = 0.012059650383889675, accuracy = 1.0\n",
      "Epoch 39, CIFAR-10 Batch 2:  cost = 0.00723197590559721, accuracy = 1.0\n",
      "Epoch 39, CIFAR-10 Batch 3:  cost = 0.012993154115974903, accuracy = 1.0\n",
      "Epoch 39, CIFAR-10 Batch 4:  cost = 0.018595103174448013, accuracy = 1.0\n",
      "Epoch 39, CIFAR-10 Batch 5:  cost = 0.013276512734591961, accuracy = 1.0\n",
      "Epoch 40, CIFAR-10 Batch 1:  cost = 0.011196745559573174, accuracy = 1.0\n",
      "Epoch 40, CIFAR-10 Batch 2:  cost = 0.005365557968616486, accuracy = 1.0\n",
      "Epoch 40, CIFAR-10 Batch 3:  cost = 0.009762533009052277, accuracy = 1.0\n",
      "Epoch 40, CIFAR-10 Batch 4:  cost = 0.008411738090217113, accuracy = 1.0\n",
      "Epoch 40, CIFAR-10 Batch 5:  cost = 0.006996151991188526, accuracy = 1.0\n",
      "Epoch 41, CIFAR-10 Batch 1:  cost = 0.010759423486888409, accuracy = 1.0\n",
      "Epoch 41, CIFAR-10 Batch 2:  cost = 0.0033181391190737486, accuracy = 1.0\n",
      "Epoch 41, CIFAR-10 Batch 3:  cost = 0.005420553032308817, accuracy = 1.0\n",
      "Epoch 41, CIFAR-10 Batch 4:  cost = 0.007156486622989178, accuracy = 1.0\n",
      "Epoch 41, CIFAR-10 Batch 5:  cost = 0.003709933953359723, accuracy = 1.0\n",
      "Epoch 42, CIFAR-10 Batch 1:  cost = 0.02172018401324749, accuracy = 1.0\n",
      "Epoch 42, CIFAR-10 Batch 2:  cost = 0.005581784062087536, accuracy = 1.0\n",
      "Epoch 42, CIFAR-10 Batch 3:  cost = 0.009636737406253815, accuracy = 1.0\n",
      "Epoch 42, CIFAR-10 Batch 4:  cost = 0.0070892563089728355, accuracy = 1.0\n",
      "Epoch 42, CIFAR-10 Batch 5:  cost = 0.0034184418618679047, accuracy = 1.0\n",
      "Epoch 43, CIFAR-10 Batch 1:  cost = 0.01618022844195366, accuracy = 1.0\n"
     ]
    },
    {
     "name": "stdout",
     "output_type": "stream",
     "text": [
      "Epoch 43, CIFAR-10 Batch 2:  cost = 0.008246026933193207, accuracy = 1.0\n",
      "Epoch 43, CIFAR-10 Batch 3:  cost = 0.0034431726671755314, accuracy = 1.0\n",
      "Epoch 43, CIFAR-10 Batch 4:  cost = 0.006949444767087698, accuracy = 1.0\n",
      "Epoch 43, CIFAR-10 Batch 5:  cost = 0.002995468210428953, accuracy = 1.0\n",
      "Epoch 44, CIFAR-10 Batch 1:  cost = 0.006939203944057226, accuracy = 1.0\n",
      "Epoch 44, CIFAR-10 Batch 2:  cost = 0.00752809876576066, accuracy = 1.0\n",
      "Epoch 44, CIFAR-10 Batch 3:  cost = 0.005735716316848993, accuracy = 1.0\n",
      "Epoch 44, CIFAR-10 Batch 4:  cost = 0.018288608640432358, accuracy = 1.0\n",
      "Epoch 44, CIFAR-10 Batch 5:  cost = 0.003321052761748433, accuracy = 1.0\n",
      "Epoch 45, CIFAR-10 Batch 1:  cost = 0.008709860034286976, accuracy = 1.0\n",
      "Epoch 45, CIFAR-10 Batch 2:  cost = 0.005355620291084051, accuracy = 1.0\n",
      "Epoch 45, CIFAR-10 Batch 3:  cost = 0.00648106262087822, accuracy = 1.0\n",
      "Epoch 45, CIFAR-10 Batch 4:  cost = 0.004888634197413921, accuracy = 1.0\n",
      "Epoch 45, CIFAR-10 Batch 5:  cost = 0.002654183655977249, accuracy = 1.0\n",
      "Epoch 46, CIFAR-10 Batch 1:  cost = 0.008863313123583794, accuracy = 1.0\n",
      "Epoch 46, CIFAR-10 Batch 2:  cost = 0.002508859382942319, accuracy = 1.0\n",
      "Epoch 46, CIFAR-10 Batch 3:  cost = 0.006544227246195078, accuracy = 1.0\n",
      "Epoch 46, CIFAR-10 Batch 4:  cost = 0.006125450134277344, accuracy = 1.0\n",
      "Epoch 46, CIFAR-10 Batch 5:  cost = 0.004705811385065317, accuracy = 1.0\n",
      "Epoch 47, CIFAR-10 Batch 1:  cost = 0.005422583781182766, accuracy = 1.0\n",
      "Epoch 47, CIFAR-10 Batch 2:  cost = 0.0049347118474543095, accuracy = 1.0\n",
      "Epoch 47, CIFAR-10 Batch 3:  cost = 0.007116667926311493, accuracy = 1.0\n",
      "Epoch 47, CIFAR-10 Batch 4:  cost = 0.004884041845798492, accuracy = 1.0\n",
      "Epoch 47, CIFAR-10 Batch 5:  cost = 0.001953867496922612, accuracy = 1.0\n",
      "Epoch 48, CIFAR-10 Batch 1:  cost = 0.0052496506832540035, accuracy = 1.0\n",
      "Epoch 48, CIFAR-10 Batch 2:  cost = 0.0024312459863722324, accuracy = 1.0\n",
      "Epoch 48, CIFAR-10 Batch 3:  cost = 0.00523634348064661, accuracy = 1.0\n",
      "Epoch 48, CIFAR-10 Batch 4:  cost = 0.0028595048934221268, accuracy = 1.0\n",
      "Epoch 48, CIFAR-10 Batch 5:  cost = 0.0027913632802665234, accuracy = 1.0\n",
      "Epoch 49, CIFAR-10 Batch 1:  cost = 0.005477428436279297, accuracy = 1.0\n",
      "Epoch 49, CIFAR-10 Batch 2:  cost = 0.0022845291532576084, accuracy = 1.0\n",
      "Epoch 49, CIFAR-10 Batch 3:  cost = 0.01613285392522812, accuracy = 1.0\n",
      "Epoch 49, CIFAR-10 Batch 4:  cost = 0.004065382294356823, accuracy = 1.0\n",
      "Epoch 49, CIFAR-10 Batch 5:  cost = 0.0023270815145224333, accuracy = 1.0\n",
      "Epoch 50, CIFAR-10 Batch 1:  cost = 0.002396312775090337, accuracy = 1.0\n",
      "Epoch 50, CIFAR-10 Batch 2:  cost = 0.0025241589173674583, accuracy = 1.0\n",
      "Epoch 50, CIFAR-10 Batch 3:  cost = 0.0020624003373086452, accuracy = 1.0\n",
      "Epoch 50, CIFAR-10 Batch 4:  cost = 0.004171609878540039, accuracy = 1.0\n",
      "Epoch 50, CIFAR-10 Batch 5:  cost = 0.0028389443177729845, accuracy = 1.0\n"
     ]
    }
   ],
   "source": [
    "\"\"\"\n",
    "DON'T MODIFY ANYTHING IN THIS CELL\n",
    "\"\"\"\n",
    "save_model_path = './image_classification'\n",
    "\n",
    "print('Training...')\n",
    "with tf.Session() as sess:\n",
    "    # Initializing the variables\n",
    "    sess.run(tf.global_variables_initializer())\n",
    "    \n",
    "    # Training cycle\n",
    "    for epoch in range(epochs):\n",
    "        # Loop over all batches\n",
    "        n_batches = 5\n",
    "        for batch_i in range(1, n_batches + 1):\n",
    "            for batch_features, batch_labels in helper.load_preprocess_training_batch(batch_i, batch_size):\n",
    "                train_neural_network(sess, optimizer, keep_probability, batch_features, batch_labels)\n",
    "            print('Epoch {:>2}, CIFAR-10 Batch {}:  '.format(epoch + 1, batch_i), end='')\n",
    "            print_stats(sess, batch_features, batch_labels, cost, accuracy)\n",
    "            \n",
    "    # Save Model\n",
    "    saver = tf.train.Saver()\n",
    "    save_path = saver.save(sess, save_model_path)"
   ]
  },
  {
   "cell_type": "markdown",
   "metadata": {},
   "source": [
    "# 检查点\n",
    "\n",
    "模型已保存到本地。\n",
    "\n",
    "## 测试模型\n",
    "\n",
    "利用测试数据集测试你的模型。这将是最终的准确率。你的准确率应该高于 50%。如果没达到，请继续调整模型结构和参数。"
   ]
  },
  {
   "cell_type": "code",
   "execution_count": 34,
   "metadata": {},
   "outputs": [
    {
     "name": "stdout",
     "output_type": "stream",
     "text": [
      "INFO:tensorflow:Restoring parameters from ./image_classification\n",
      "Testing Accuracy: 0.6982421875\n",
      "\n"
     ]
    },
    {
     "data": {
      "image/png": "[encoded data removed]",
      "text/plain": [
       "<matplotlib.figure.Figure at 0x254b3004198>"
      ]
     },
     "metadata": {
      "image/png": {
       "height": 319,
       "width": 355
      }
     },
     "output_type": "display_data"
    }
   ],
   "source": [
    "\"\"\"\n",
    "DON'T MODIFY ANYTHING IN THIS CELL\n",
    "\"\"\"\n",
    "%matplotlib inline\n",
    "%config InlineBackend.figure_format = 'retina'\n",
    "\n",
    "import tensorflow as tf\n",
    "import pickle\n",
    "import helper\n",
    "import random\n",
    "\n",
    "# Set batch size if not already set\n",
    "try:\n",
    "    if batch_size:\n",
    "        pass\n",
    "except NameError:\n",
    "    batch_size = 64\n",
    "\n",
    "save_model_path = './image_classification'\n",
    "n_samples = 4\n",
    "top_n_predictions = 3\n",
    "\n",
    "def test_model():\n",
    "    \"\"\"\n",
    "    Test the saved model against the test dataset\n",
    "    \"\"\"\n",
    "\n",
    "    test_features, test_labels = pickle.load(open('preprocess_test.p', mode='rb'))\n",
    "    loaded_graph = tf.Graph()\n",
    "\n",
    "    with tf.Session(graph=loaded_graph) as sess:\n",
    "        # Load model\n",
    "        loader = tf.train.import_meta_graph(save_model_path + '.meta')\n",
    "        loader.restore(sess, save_model_path)\n",
    "\n",
    "        # Get Tensors from loaded model\n",
    "        loaded_x = loaded_graph.get_tensor_by_name('x:0')\n",
    "        loaded_y = loaded_graph.get_tensor_by_name('y:0')\n",
    "        loaded_keep_prob = loaded_graph.get_tensor_by_name('keep_prob:0')\n",
    "        loaded_logits = loaded_graph.get_tensor_by_name('logits:0')\n",
    "        loaded_acc = loaded_graph.get_tensor_by_name('accuracy:0')\n",
    "        \n",
    "        # Get accuracy in batches for memory limitations\n",
    "        test_batch_acc_total = 0\n",
    "        test_batch_count = 0\n",
    "        \n",
    "        for test_feature_batch, test_label_batch in helper.batch_features_labels(test_features, test_labels, batch_size):\n",
    "            test_batch_acc_total += sess.run(\n",
    "                loaded_acc,\n",
    "                feed_dict={loaded_x: test_feature_batch, loaded_y: test_label_batch, loaded_keep_prob: 1.0})\n",
    "            test_batch_count += 1\n",
    "\n",
    "        print('Testing Accuracy: {}\\n'.format(test_batch_acc_total/test_batch_count))\n",
    "\n",
    "        # Print Random Samples\n",
    "        random_test_features, random_test_labels = tuple(zip(*random.sample(list(zip(test_features, test_labels)), n_samples)))\n",
    "        random_test_predictions = sess.run(\n",
    "            tf.nn.top_k(tf.nn.softmax(loaded_logits), top_n_predictions),\n",
    "            feed_dict={loaded_x: random_test_features, loaded_y: random_test_labels, loaded_keep_prob: 1.0})\n",
    "        helper.display_image_predictions(random_test_features, random_test_labels, random_test_predictions)\n",
    "\n",
    "\n",
    "test_model()"
   ]
  },
  {
   "cell_type": "markdown",
   "metadata": {},
   "source": [
    "## 为何准确率只有50-80%？\n",
    "\n",
    "你可能想问，为何准确率不能更高了？首先，对于简单的 CNN 网络来说，50% 已经不低了。纯粹猜测的准确率为10%。但是，你可能注意到有人的准确率[远远超过 80%](http://rodrigob.github.io/are_we_there_yet/build/classification_datasets_results.html#43494641522d3130)。这是因为我们还没有介绍所有的神经网络知识。我们还需要掌握一些其他技巧。\n",
    "\n",
    "## 提交项目\n",
    "\n",
    "提交项目时，确保先运行所有单元，然后再保存记事本。将 notebook 文件另存为“dlnd_image_classification.ipynb”，再在目录 \"File\" -> \"Download as\" 另存为 HTML 格式。请在提交的项目中包含 “helper.py” 和 “problem_unittests.py” 文件。\n"
   ]
  }
 ],
 "metadata": {
  "kernelspec": {
   "display_name": "Python 3",
   "language": "python",
   "name": "python3"
  },
  "language_info": {
   "codemirror_mode": {
    "name": "ipython",
    "version": 3
   },
   "file_extension": ".py",
   "mimetype": "text/x-python",
   "name": "python",
   "nbconvert_exporter": "python",
   "pygments_lexer": "ipython3",
   "version": "3.5.4"
  }
 },
 "nbformat": 4,
 "nbformat_minor": 1
}
